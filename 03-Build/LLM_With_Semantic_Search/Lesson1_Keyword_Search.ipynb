{
 "cells": [
  {
   "cell_type": "markdown",
   "id": "92f21ec13e252c8d",
   "metadata": {
    "collapsed": false,
    "jupyter": {
     "outputs_hidden": false
    }
   },
   "source": [
    "# Lesson 1: keyword Search"
   ]
  },
  {
   "cell_type": "code",
   "execution_count": null,
   "id": "initial_id",
   "metadata": {},
   "outputs": [],
   "source": [
    "import warnings\n",
    "\n",
    "# Disable all warnings\n",
    "warnings.filterwarnings(\"ignore\")\n",
    "\n",
    "import os\n",
    "import weaviate\n",
    "from dotenv import load_dotenv\n",
    "\n",
    "load_dotenv()\n",
    "# This is a public Server\n",
    "os.environ['WEAVIATE_API_URL'] = 'https://cohere-demo.weaviate.network/'\n",
    "os.environ['WEAVIATE_API_KEY'] = '76320a90-53d8-42bc-b41d-678647c6672e'\n",
    "\n",
    "auth_config = weaviate.auth.AuthApiKey(\n",
    "    api_key=os.getenv(\"WEAVIATE_API_KEY\")\n",
    ")"
   ]
  },
  {
   "cell_type": "code",
   "execution_count": null,
   "id": "e4bb9f3c5702d713",
   "metadata": {
    "collapsed": false,
    "jupyter": {
     "outputs_hidden": false
    }
   },
   "outputs": [],
   "source": [
    "client = weaviate.Client(\n",
    "    url=os.environ['WEAVIATE_API_URL'],\n",
    "    auth_client_secret=auth_config,\n",
    "    additional_headers={\n",
    "        \"X-Cohere-Api-Key\": os.environ['COHERE_API_KEY'],\n",
    "    }\n",
    ")\n"
   ]
  },
  {
   "cell_type": "code",
   "execution_count": null,
   "id": "9687b36ab339e478",
   "metadata": {
    "collapsed": false,
    "jupyter": {
     "outputs_hidden": false
    }
   },
   "outputs": [],
   "source": [
    "client.is_ready() "
   ]
  },
  {
   "cell_type": "markdown",
   "id": "7c913d96146b7c5d",
   "metadata": {
    "collapsed": false,
    "jupyter": {
     "outputs_hidden": false
    }
   },
   "source": [
    "# Keyword Search"
   ]
  },
  {
   "cell_type": "code",
   "execution_count": null,
   "id": "d94d3f96a5928ecf",
   "metadata": {
    "collapsed": false,
    "jupyter": {
     "outputs_hidden": false
    }
   },
   "outputs": [],
   "source": [
    "def keyword_search(query,\n",
    "                   results_lang='en',\n",
    "                   properties = [\"title\",\"url\",\"text\"],\n",
    "                   num_results=3):\n",
    "\n",
    "    where_filter = {\n",
    "    \"path\": [\"lang\"],\n",
    "    \"operator\": \"Equal\",\n",
    "    \"valueString\": results_lang\n",
    "    }\n",
    "    \n",
    "    response = (\n",
    "        client.query.get(\"Articles\", properties)\n",
    "        .with_bm25(\n",
    "            query=query\n",
    "        )\n",
    "        .with_where(where_filter)\n",
    "        .with_limit(num_results)\n",
    "        .do()\n",
    "        )\n",
    "\n",
    "    result = response['data']['Get']['Articles']\n",
    "    return result"
   ]
  },
  {
   "cell_type": "code",
   "execution_count": null,
   "id": "4350444d0559d1cf",
   "metadata": {
    "collapsed": false,
    "jupyter": {
     "outputs_hidden": false
    }
   },
   "outputs": [],
   "source": [
    "query = \"What is the most viewed televised event?\"\n",
    "keyword_search_results = keyword_search(query)\n",
    "print(keyword_search_results)"
   ]
  },
  {
   "cell_type": "code",
   "execution_count": null,
   "id": "9664b5eb1c822aae",
   "metadata": {
    "collapsed": false,
    "jupyter": {
     "outputs_hidden": false
    }
   },
   "outputs": [],
   "source": [
    "properties = [\"text\", \"title\", \"url\", \n",
    "             \"views\", \"lang\"]"
   ]
  },
  {
   "cell_type": "code",
   "execution_count": null,
   "id": "d37ec60b1f0ac9ee",
   "metadata": {
    "collapsed": false,
    "jupyter": {
     "outputs_hidden": false
    }
   },
   "outputs": [],
   "source": [
    "def print_result(result):\n",
    "    \"\"\" Print results with colorful formatting \"\"\"\n",
    "    for i,item in enumerate(result):\n",
    "        print(f'item {i}')\n",
    "        for key in item.keys():\n",
    "            print(f\"{key}:{item.get(key)}\")\n",
    "            print()\n",
    "        print()"
   ]
  },
  {
   "cell_type": "code",
   "execution_count": null,
   "id": "342ab75080992da3",
   "metadata": {
    "collapsed": false,
    "jupyter": {
     "outputs_hidden": false
    }
   },
   "outputs": [],
   "source": [
    "print_result(keyword_search_results)"
   ]
  },
  {
   "cell_type": "markdown",
   "id": "1ed6019c-61c9-4e24-b2a0-a0425005d6eb",
   "metadata": {},
   "source": [
    "## Try modifying the search options\r\n",
    "- Other languages to try: `en, de, fr, es, it, ja, ar, zh, ko, hi`i"
   ]
  },
  {
   "cell_type": "code",
   "execution_count": null,
   "id": "f098201699103d2d",
   "metadata": {
    "collapsed": false,
    "jupyter": {
     "outputs_hidden": false
    }
   },
   "outputs": [],
   "source": [
    "query = \"What is the most viewed televised event?\"\n",
    "keyword_search_results = keyword_search(query, results_lang='de')\n",
    "print_result(keyword_search_results)"
   ]
  },
  {
   "cell_type": "code",
   "execution_count": null,
   "id": "3e43dd14-7b1d-470d-8f28-70f4ea7f3a16",
   "metadata": {},
   "outputs": [],
   "source": []
  }
 ],
 "metadata": {
  "kernelspec": {
   "display_name": "Python 3 (ipykernel)",
   "language": "python",
   "name": "python3"
  },
  "language_info": {
   "codemirror_mode": {
    "name": "ipython",
    "version": 3
   },
   "file_extension": ".py",
   "mimetype": "text/x-python",
   "name": "python",
   "nbconvert_exporter": "python",
   "pygments_lexer": "ipython3",
   "version": "3.12.7"
  }
 },
 "nbformat": 4,
 "nbformat_minor": 5
}
