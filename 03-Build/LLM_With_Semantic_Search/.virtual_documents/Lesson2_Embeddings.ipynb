


import os

import cohere
import numpy as np
import pandas as pd
from dotenv import load_dotenv

from utils import umap_plot
from utils import umap_plot_big

load_dotenv()

co = cohere.Client(os.environ['COHERE_API_KEY'])





three_words = pd.DataFrame({'text':
  [
      'joy',
      'happiness',
      'potato'
  ]})

three_words


three_words_emb = co.embed(texts=list(three_words['text']),
                           model='embed-english-v2.0').embeddings


word_1 = three_words_emb[0]
word_2 = three_words_emb[1]
word_3 = three_words_emb[2]


word_1[:10]





sentences = pd.DataFrame({'text':
  [
   'Where is the world cup?',
   'The world cup is in Qatar',
   'What color is the sky?',
   'The sky is blue',
   'Where does the bear live?',
   'The bear lives in the the woods',
   'What is an apple?',
   'An apple is a fruit',
  ]})

sentences


emb = co.embed(texts=list(sentences['text']),
               model='embed-english-v2.0').embeddings

for e in emb:
    print(e[:3])


chart = umap_plot(sentences, emb)


chart.interactive()





wiki_articles = pd.read_pickle('wikipedia.pkl')
wiki_articles


articles = wiki_articles[['title', 'text']]
embeds = np.array([d for d in wiki_articles['emb']])

chart = umap_plot_big(articles, embeds)
chart.interactive()



