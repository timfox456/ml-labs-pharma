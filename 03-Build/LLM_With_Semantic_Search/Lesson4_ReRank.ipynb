{
 "cells": [
  {
   "cell_type": "markdown",
   "id": "e861b5e46d636804",
   "metadata": {
    "collapsed": false,
    "jupyter": {
     "outputs_hidden": false
    }
   },
   "source": [
    "# Lesson 4: ReRank"
   ]
  },
  {
   "cell_type": "code",
   "execution_count": null,
   "id": "d6fb8619747b6d97",
   "metadata": {
    "collapsed": false,
    "jupyter": {
     "outputs_hidden": false
    }
   },
   "outputs": [],
   "source": [
    "import warnings\n",
    "\n",
    "# Disable all warnings\n",
    "warnings.filterwarnings(\"ignore\")\n",
    "\n",
    "import os\n",
    "import weaviate\n",
    "from dotenv import load_dotenv\n",
    "from utils import dense_retrieval\n",
    "from utils import print_result\n",
    "from utils import keyword_search\n",
    "\n",
    "load_dotenv()\n",
    "os.environ['WEAVIATE_API_URL'] = 'https://cohere-demo.weaviate.network/'\n",
    "os.environ['WEAVIATE_API_KEY'] = '76320a90-53d8-42bc-b41d-678647c6672e'\n",
    "auth_config = weaviate.auth.AuthApiKey(\n",
    "    api_key=os.getenv(\"WEAVIATE_API_KEY\")\n",
    ")\n",
    "\n",
    "client = weaviate.Client(\n",
    "    url=os.getenv(\"WEAVIATE_API_URL\"),\n",
    "    auth_client_secret=auth_config,\n",
    "    additional_headers={\n",
    "        \"X-Cohere-Api-Key\": os.getenv(\"COHERE_API_KEY\"),\n",
    "    }\n",
    ")"
   ]
  },
  {
   "cell_type": "markdown",
   "id": "5d51486576530d6",
   "metadata": {
    "collapsed": false,
    "jupyter": {
     "outputs_hidden": false
    }
   },
   "source": [
    "# Dense Retrieval"
   ]
  },
  {
   "cell_type": "code",
   "execution_count": null,
   "id": "65f1f9939c85fa6",
   "metadata": {
    "collapsed": false,
    "jupyter": {
     "outputs_hidden": false
    }
   },
   "outputs": [],
   "source": [
    "query = \"What is the capital of Canada?\""
   ]
  },
  {
   "cell_type": "code",
   "execution_count": null,
   "id": "d93cfff901043923",
   "metadata": {
    "collapsed": false,
    "jupyter": {
     "outputs_hidden": false
    }
   },
   "outputs": [],
   "source": [
    "dense_retrieval_results = dense_retrieval(query, client)"
   ]
  },
  {
   "cell_type": "code",
   "execution_count": null,
   "id": "3ad56a19f4ffe2a7",
   "metadata": {
    "collapsed": false,
    "jupyter": {
     "outputs_hidden": false
    }
   },
   "outputs": [],
   "source": [
    "print_result(dense_retrieval_results)"
   ]
  },
  {
   "cell_type": "markdown",
   "id": "a2633d44b566d284",
   "metadata": {
    "collapsed": false,
    "jupyter": {
     "outputs_hidden": false
    }
   },
   "source": [
    "# Improving Keyword Search with ReRank"
   ]
  },
  {
   "cell_type": "code",
   "execution_count": null,
   "id": "d22470c7fe2ee483",
   "metadata": {
    "collapsed": false,
    "jupyter": {
     "outputs_hidden": false
    }
   },
   "outputs": [],
   "source": [
    "query_1 = \"What is the capital of Canada?\""
   ]
  },
  {
   "cell_type": "code",
   "execution_count": null,
   "id": "6829a67b3174689b",
   "metadata": {
    "collapsed": false,
    "jupyter": {
     "outputs_hidden": false
    }
   },
   "outputs": [],
   "source": [
    "query_1 = \"What is the capital of Canada?\"\n",
    "results = keyword_search(query_1,\n",
    "                         client,\n",
    "                         properties=[\"text\", \"title\", \"url\", \"views\", \"lang\", \"_additional {distance}\"],\n",
    "                         num_results=3\n",
    "                        )\n",
    "\n",
    "for i, result in enumerate(results):\n",
    "    print(f\"i:{i}\")\n",
    "    print(result.get('title'))\n",
    "    print(result.get('text'))"
   ]
  },
  {
   "cell_type": "code",
   "execution_count": null,
   "id": "4280416f47ca2726",
   "metadata": {
    "collapsed": false,
    "jupyter": {
     "outputs_hidden": false
    }
   },
   "outputs": [],
   "source": [
    "query_1 = \"What is the capital of Canada?\"\n",
    "results = keyword_search(query_1,\n",
    "                         client,\n",
    "                         properties=[\"text\", \"title\", \"url\", \"views\", \"lang\", \"_additional {distance}\"],\n",
    "                         num_results=500\n",
    "                        )\n",
    "\n",
    "for i, result in enumerate(results):\n",
    "    print(f\"i:{i}\")\n",
    "    print(result.get('title'))\n"
   ]
  },
  {
   "cell_type": "code",
   "execution_count": null,
   "id": "6c711b9e3c891695",
   "metadata": {
    "collapsed": false,
    "jupyter": {
     "outputs_hidden": false
    }
   },
   "outputs": [],
   "source": [
    "import cohere\n",
    "\n",
    "\n",
    "def rerank_responses(query, responses, num_responses=10):\n",
    "    co = cohere.Client(os.environ['COHERE_API_KEY'])\n",
    "    reranked_responses = co.rerank(\n",
    "        query=query,\n",
    "        documents=responses,\n",
    "        top_n=num_responses,  # controls how many reranked docs to return\n",
    "        model=\"rerank-english-v2.0\"\n",
    "    )\n",
    "    return reranked_responses"
   ]
  },
  {
   "cell_type": "code",
   "execution_count": null,
   "id": "a5b6f01620c42b46",
   "metadata": {
    "collapsed": false,
    "jupyter": {
     "outputs_hidden": false
    }
   },
   "outputs": [],
   "source": [
    "texts = [result.get('text') for result in results]\n",
    "reranked_text = rerank_responses(query_1, texts)\n",
    "print(reranked_text)"
   ]
  },
  {
   "cell_type": "code",
   "execution_count": null,
   "id": "b67ff8ec3c0adb9f",
   "metadata": {
    "collapsed": false,
    "jupyter": {
     "outputs_hidden": false
    }
   },
   "outputs": [],
   "source": [
    "for i, rerank_result in enumerate(reranked_text):\n",
    "    print(f\"i:{i}\")\n",
    "    print(f\"{rerank_result}\")\n",
    "    print()"
   ]
  },
  {
   "cell_type": "markdown",
   "id": "1a85135b4a7985cb",
   "metadata": {
    "collapsed": false,
    "jupyter": {
     "outputs_hidden": false
    }
   },
   "source": [
    "# Improving Dense Retrieval with ReRank"
   ]
  },
  {
   "cell_type": "code",
   "execution_count": null,
   "id": "cc60cd5df8537f2",
   "metadata": {
    "collapsed": false,
    "jupyter": {
     "outputs_hidden": false
    }
   },
   "outputs": [],
   "source": [
    "query_2 = \"Who is the tallest person in history?\"\n",
    "results = dense_retrieval(query_2,client)"
   ]
  },
  {
   "cell_type": "code",
   "execution_count": null,
   "id": "2348803dea0b2a8",
   "metadata": {
    "collapsed": false,
    "jupyter": {
     "outputs_hidden": false
    }
   },
   "outputs": [],
   "source": [
    "for i, result in enumerate(results):\n",
    "    print(f\"i:{i}\")\n",
    "    print(result.get('title'))\n",
    "    print(result.get('text'))\n",
    "    print()"
   ]
  },
  {
   "cell_type": "code",
   "execution_count": null,
   "id": "59dada4a222f03fa",
   "metadata": {
    "collapsed": false,
    "jupyter": {
     "outputs_hidden": false
    }
   },
   "outputs": [],
   "source": [
    "texts = [result.get('text') for result in results]\n",
    "reranked_text = rerank_responses(query_2, texts)"
   ]
  },
  {
   "cell_type": "code",
   "execution_count": null,
   "id": "7b788dbaa5fae5d8",
   "metadata": {
    "collapsed": false,
    "jupyter": {
     "outputs_hidden": false
    }
   },
   "outputs": [],
   "source": [
    "for i, rerank_result in enumerate(reranked_text):\n",
    "    print(f\"i:{i}\")\n",
    "    print(f\"{rerank_result}\")\n",
    "    print()"
   ]
  },
  {
   "cell_type": "code",
   "execution_count": null,
   "id": "e2b98b1d-982e-44cb-bbb1-cafda5828a83",
   "metadata": {},
   "outputs": [],
   "source": []
  }
 ],
 "metadata": {
  "kernelspec": {
   "display_name": "Python 3 (ipykernel)",
   "language": "python",
   "name": "python3"
  },
  "language_info": {
   "codemirror_mode": {
    "name": "ipython",
    "version": 3
   },
   "file_extension": ".py",
   "mimetype": "text/x-python",
   "name": "python",
   "nbconvert_exporter": "python",
   "pygments_lexer": "ipython3",
   "version": "3.11.7"
  }
 },
 "nbformat": 4,
 "nbformat_minor": 5
}
