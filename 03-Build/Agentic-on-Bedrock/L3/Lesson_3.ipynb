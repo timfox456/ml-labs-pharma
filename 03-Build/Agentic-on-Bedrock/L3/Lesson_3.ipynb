{
 "cells": [
  {
   "cell_type": "markdown",
   "id": "ab54ee93-82f0-4f96-8499-35866006b26d",
   "metadata": {},
   "source": [
    "# Lesson 3: Performing calculations"
   ]
  },
  {
   "cell_type": "code",
   "execution_count": 1,
   "id": "f99dcd21",
   "metadata": {},
   "outputs": [
    {
     "name": "stdout",
     "output_type": "stream",
     "text": [
      "Resetting environment (if nessesary)\n",
      "Agent reset process completed.\n",
      "Lambda reset process completed.\n",
      "Guardrail reset process completed.\n",
      "Environment reset complete.\n",
      "Lesson 2 Prep\n",
      "Waiting for agent status of 'NOT_PREPARED'...\n",
      "Agent status: CREATING\n",
      "Agent status: NOT_PREPARED\n",
      "Agent reached 'NOT_PREPARED' status.\n",
      "Waiting for agent status of 'PREPARED'...\n",
      "Agent status: PREPARING\n",
      "Agent status: PREPARED\n",
      "Agent reached 'PREPARED' status.\n",
      "Waiting for agent alias status of 'PREPARED'...\n",
      "Agent alias status: CREATING\n",
      "Agent alias status: CREATING\n",
      "Agent alias status: PREPARED\n",
      "Agent alias reached status 'PREPARED'\n",
      "Lesson 3 Prep\n",
      "Action Group status: ENABLED\n",
      "Waiting for agent status of 'PREPARED'...\n",
      "Agent status: PREPARING\n",
      "Agent status: PREPARED\n",
      "Agent reached 'PREPARED' status.\n",
      "Waiting for agent alias status of 'PREPARED'...\n",
      "Agent alias status: UPDATING\n",
      "Agent alias status: UPDATING\n",
      "Agent alias status: PREPARED\n",
      "Agent alias reached status 'PREPARED'\n"
     ]
    }
   ],
   "source": [
    "# Before you start, please run the following code to set up your environment.\n",
    "# This code will reset the environment (if needed) and prepare the resources for the lesson.\n",
    "# It does this by quickly running through all the code from the previous lessons.\n",
    "\n",
    "!sh ./ro_shared_data/reset.sh\n",
    "%run ./ro_shared_data/lesson_2_prep.py lesson3\n",
    "%run ./ro_shared_data/lesson_3_prep.py lesson3\n",
    "\n",
    "import os\n",
    "\n",
    "agentId = os.environ['BEDROCK_AGENT_ID']\n",
    "agentAliasId = os.environ['BEDROCK_AGENT_ALIAS_ID']\n",
    "region_name = 'us-west-2'\n",
    "lambda_function_arn = os.environ['LAMBDA_FUNCTION_ARN']\n",
    "action_group_id = os.environ['ACTION_GROUP_ID']"
   ]
  },
  {
   "cell_type": "markdown",
   "id": "2083d54d",
   "metadata": {},
   "source": [
    "## Start of lesson"
   ]
  },
  {
   "cell_type": "code",
   "execution_count": 2,
   "id": "a9f11e80",
   "metadata": {},
   "outputs": [],
   "source": [
    "import boto3\n",
    "import uuid\n",
    "from helper import *"
   ]
  },
  {
   "cell_type": "code",
   "execution_count": 3,
   "id": "c410d6ab",
   "metadata": {},
   "outputs": [],
   "source": [
    "bedrock_agent = boto3.client(service_name='bedrock-agent', region_name=region_name)"
   ]
  },
  {
   "cell_type": "code",
   "execution_count": 4,
   "id": "03cba5eb",
   "metadata": {},
   "outputs": [],
   "source": [
    "update_agent_action_group_response = bedrock_agent.update_agent_action_group(\n",
    "    actionGroupName='customer-support-actions',\n",
    "    actionGroupState='ENABLED',\n",
    "    actionGroupId=action_group_id,\n",
    "    agentId=agentId,\n",
    "    agentVersion='DRAFT',\n",
    "    actionGroupExecutor={\n",
    "        'lambda': lambda_function_arn\n",
    "    },\n",
    "    functionSchema={\n",
    "        'functions': [\n",
    "            {\n",
    "                'name': 'customerId',\n",
    "                'description': 'Get a customer ID given available details. At least one parameter must be sent to the function. This is private information and must not be given to the user.',\n",
    "                'parameters': {\n",
    "                    'email': {\n",
    "                        'description': 'Email address',\n",
    "                        'required': False,\n",
    "                        'type': 'string'\n",
    "                    },\n",
    "                    'name': {\n",
    "                        'description': 'Customer name',\n",
    "                        'required': False,\n",
    "                        'type': 'string'\n",
    "                    },\n",
    "                    'phone': {\n",
    "                        'description': 'Phone number',\n",
    "                        'required': False,\n",
    "                        'type': 'string'\n",
    "                    },\n",
    "                }\n",
    "            },            \n",
    "            {\n",
    "                'name': 'sendToSupport',\n",
    "                'description': 'Send a message to the support team, used for service escalation. ',\n",
    "                'parameters': {\n",
    "                    'custId': {\n",
    "                        'description': 'customer ID',\n",
    "                        'required': True,\n",
    "                        'type': 'string'\n",
    "                    },\n",
    "                    'purchaseId': {\n",
    "                        'description': 'the ID of the purchase, can be found using purchaseSearch',\n",
    "                        'required': True,\n",
    "                        'type': 'string'\n",
    "                    },\n",
    "                    'supportSummary': {\n",
    "                        'description': 'Summary of the support request',\n",
    "                        'required': True,\n",
    "                        'type': 'string'\n",
    "                    },\n",
    "                }\n",
    "            },\n",
    "            {\n",
    "                'name': 'purchaseSearch',\n",
    "                'description': \"\"\"Search for, and get details of a purchases made.  Details can be used for raising support requests. You can confirm you have this data, for example \"I found your purchase\" or \"I can't find your purchase\", but other details are private information and must not be given to the user.\"\"\",\n",
    "                'parameters': {\n",
    "                    'custId': {\n",
    "                        'description': 'customer ID',\n",
    "                        'required': True,\n",
    "                        'type': 'string'\n",
    "                    },\n",
    "                    'productDescription': {\n",
    "                        'description': 'a description of the purchased product to search for',\n",
    "                        'required': True,\n",
    "                        'type': 'string'\n",
    "                    },\n",
    "                    'purchaseDate': {\n",
    "                        'description': 'date of purchase to start search from, in YYYY-MM-DD format',\n",
    "                        'required': True,\n",
    "                        'type': 'string'\n",
    "                    },\n",
    "                }\n",
    "            }\n",
    "        ]\n",
    "    }\n",
    ")"
   ]
  },
  {
   "cell_type": "code",
   "execution_count": 5,
   "id": "92dcc0d5",
   "metadata": {},
   "outputs": [
    {
     "name": "stdout",
     "output_type": "stream",
     "text": [
      "Action Group status: ENABLED\n"
     ]
    },
    {
     "data": {
      "text/plain": [
       "'ENABLED'"
      ]
     },
     "execution_count": 5,
     "metadata": {},
     "output_type": "execute_result"
    }
   ],
   "source": [
    "actionGroupId = update_agent_action_group_response['agentActionGroup']['actionGroupId']\n",
    "\n",
    "wait_for_action_group_status(\n",
    "    agentId=agentId,\n",
    "    actionGroupId=actionGroupId\n",
    ")"
   ]
  },
  {
   "cell_type": "code",
   "execution_count": 6,
   "id": "f90b4e72",
   "metadata": {},
   "outputs": [],
   "source": [
    "message = \"\"\"mike@mike.com - I bought a mug 10 weeks ago and now it's broken. I want a refund.\"\"\""
   ]
  },
  {
   "cell_type": "markdown",
   "id": "abf409ba-cd18-44d9-8de1-c34b519af74a",
   "metadata": {},
   "source": [
    "#### Add code interpreter to deal with date"
   ]
  },
  {
   "cell_type": "code",
   "execution_count": 7,
   "id": "a8df2074",
   "metadata": {},
   "outputs": [
    {
     "name": "stdout",
     "output_type": "stream",
     "text": [
      "Action Group status: ENABLED\n"
     ]
    },
    {
     "data": {
      "text/plain": [
       "'ENABLED'"
      ]
     },
     "execution_count": 7,
     "metadata": {},
     "output_type": "execute_result"
    }
   ],
   "source": [
    "create_agent_action_group_response = bedrock_agent.create_agent_action_group(\n",
    "    actionGroupName='CodeInterpreterAction',\n",
    "    actionGroupState='ENABLED',\n",
    "    agentId=agentId,\n",
    "    agentVersion='DRAFT',\n",
    "    parentActionGroupSignature='AMAZON.CodeInterpreter'\n",
    ")\n",
    "\n",
    "codeInterpreterActionGroupId = create_agent_action_group_response['agentActionGroup']['actionGroupId']\n",
    "\n",
    "wait_for_action_group_status(\n",
    "    agentId=agentId, \n",
    "    actionGroupId=codeInterpreterActionGroupId\n",
    ")"
   ]
  },
  {
   "cell_type": "markdown",
   "id": "aadb665a-0058-4f71-ac89-cc2281577c7a",
   "metadata": {},
   "source": [
    "#### prepare agent and alias to add new action group"
   ]
  },
  {
   "cell_type": "code",
   "execution_count": 8,
   "id": "84c2b02f",
   "metadata": {},
   "outputs": [
    {
     "name": "stdout",
     "output_type": "stream",
     "text": [
      "Waiting for agent status of 'PREPARED'...\n",
      "Agent status: PREPARING\n",
      "Agent status: PREPARED\n",
      "Agent reached 'PREPARED' status.\n"
     ]
    }
   ],
   "source": [
    "prepare_agent_response = bedrock_agent.prepare_agent(\n",
    "    agentId=agentId\n",
    ")\n",
    "\n",
    "wait_for_agent_status(\n",
    "    agentId=agentId,\n",
    "    targetStatus='PREPARED'\n",
    ")"
   ]
  },
  {
   "cell_type": "code",
   "execution_count": 9,
   "id": "0dd31619",
   "metadata": {},
   "outputs": [
    {
     "name": "stdout",
     "output_type": "stream",
     "text": [
      "Waiting for agent alias status of 'PREPARED'...\n",
      "Agent alias status: UPDATING\n",
      "Agent alias status: UPDATING\n",
      "Agent alias status: PREPARED\n",
      "Agent alias reached status 'PREPARED'\n"
     ]
    }
   ],
   "source": [
    "bedrock_agent.update_agent_alias(\n",
    "    agentId=agentId,\n",
    "    agentAliasId=agentAliasId,\n",
    "    agentAliasName='test',\n",
    ")\n",
    "\n",
    "wait_for_agent_alias_status(\n",
    "    agentId=agentId,\n",
    "    agentAliasId=agentAliasId,\n",
    "    targetStatus='PREPARED'\n",
    ")"
   ]
  },
  {
   "cell_type": "markdown",
   "id": "24418bc1-dd1a-4c9c-b0b5-588d4ba21c32",
   "metadata": {},
   "source": [
    "#### Now try it"
   ]
  },
  {
   "cell_type": "code",
   "execution_count": 10,
   "id": "75cdc798",
   "metadata": {},
   "outputs": [],
   "source": [
    "sessionId = str(uuid.uuid4())\n",
    "message = \"\"\"mike@mike.com - I bought a mug 10 weeks ago and now it's broken. I want a refund.\"\"\""
   ]
  },
  {
   "cell_type": "code",
   "execution_count": 11,
   "id": "d296a422",
   "metadata": {},
   "outputs": [
    {
     "name": "stdout",
     "output_type": "stream",
     "text": [
      "User: mike@mike.com - I bought a mug 10 weeks ago and now it's broken. I\n",
      "want a refund.\n",
      "\n",
      "Agent: \n",
      "Agent's thought process:\n",
      "  Okay, let's see how I can assist with this customer's request for a\n",
      "  refund on a broken mug they purchased 10 weeks ago.  First, I will\n",
      "  need to look up the customer's purchase details using the\n",
      "  purchaseSearch tool. Since the customer provided their email\n",
      "  address, I will use that to try to find their customer ID.\n",
      "\n",
      "Invocation Input:\n",
      "  Type: ACTION_GROUP\n",
      "  Action Group: customer-support-actions\n",
      "  Function: customerId\n",
      "  Parameters: [{'name': 'email', 'type': 'string', 'value': 'mike@mike.com'}]\n",
      "\n",
      "Observation:\n",
      "  Type: ACTION_GROUP\n",
      "  Action Group Output: {'id':5667}\n",
      "\n",
      "Agent's thought process:\n",
      "  Okay, I was able to look up the customer's ID using their email\n",
      "  address. Now I can use that to search for their purchase details\n",
      "  from 10 weeks ago.  Since the customer mentioned they bought the mug\n",
      "  \"10 weeks ago\", I will need to calculate the exact purchase date\n",
      "  using the Python REPL.\n",
      "\n",
      "Invocation Input:\n",
      "  Type: ACTION_GROUP_CODE_INTERPRETER\n",
      "\n",
      "Observation:\n",
      "  Type: ACTION_GROUP_CODE_INTERPRETER\n",
      "  Code Interpreter Output:\n",
      "    Execution Output: ...\n",
      "    Execution Error: N/A\n",
      "    Execution Timeout: N/A\n",
      "\n",
      "Agent's thought process:\n",
      "  Okay, based on the calculation, the purchase date was 2024-10-04,\n",
      "  which was about 10 weeks ago from today.  Now I can use the\n",
      "  purchaseSearch tool to look up the details of this purchase, using\n",
      "  the customer ID and the calculated purchase date.\n",
      "\n",
      "Invocation Input:\n",
      "  Type: ACTION_GROUP\n",
      "  Action Group: customer-support-actions\n",
      "  Function: purchaseSearch\n",
      "  Parameters: [{'name': 'purchaseDate', 'type': 'string', 'value': '2024-10-04'}, {'name': 'custId', 'type': 'string', 'value': '5667'}, {'name': 'productDescription', 'type': 'string', 'value': 'mug'}]\n",
      "\n",
      "Observation:\n",
      "  Type: ACTION_GROUP\n",
      "  Action Group Output: {'purchaseId':5893}\n",
      "\n",
      "Agent's thought process:\n",
      "  Okay, the purchaseSearch tool was able to find the customer's\n",
      "  purchase details based on the information provided. The purchase ID\n",
      "  is 5893.  Now that I have the necessary details, I can send the\n",
      "  support request to the appropriate team to process the refund for\n",
      "  the broken mug.\n",
      "\n",
      "Invocation Input:\n",
      "  Type: ACTION_GROUP\n",
      "  Action Group: customer-support-actions\n",
      "  Function: sendToSupport\n",
      "  Parameters: [{'name': 'supportSummary', 'type': 'string', 'value': 'Customer purchased a mug 10 weeks ago that is now broken and requesting a refund.'}, {'name': 'purchaseId', 'type': 'string', 'value': '5893'}, {'name': 'custId', 'type': 'string', 'value': '5667'}]\n",
      "\n",
      "Observation:\n",
      "  Type: ACTION_GROUP\n",
      "  Action Group Output: {'supportId': 3807}\n",
      "\n",
      "Observation:\n",
      "  Type: FINISH\n",
      "\n",
      "Final response:\n",
      "  I have processed your request for a refund on the broken mug you\n",
      "  purchased 10 weeks ago. I have sent the details to our support team,\n",
      "  and they will be in touch with you shortly to assist with the\n",
      "  refund. The support request ID is 3807. Please let me know if you\n",
      "  have any other questions!\n",
      "\n",
      "\n",
      "Session ID: 03b28a2b-69ce-40a9-be16-5b59958c2bab\n"
     ]
    }
   ],
   "source": [
    "invoke_agent_and_print(\n",
    "    agentId=agentId,\n",
    "    agentAliasId=agentAliasId,\n",
    "    inputText=message,\n",
    "    sessionId=sessionId,\n",
    "    enableTrace=True\n",
    ")"
   ]
  },
  {
   "cell_type": "markdown",
   "id": "638935ec-7380-4b2c-a8d2-b187529bff00",
   "metadata": {},
   "source": [
    "#### Lets look at the code"
   ]
  },
  {
   "cell_type": "code",
   "execution_count": 12,
   "id": "17d1741e",
   "metadata": {},
   "outputs": [],
   "source": [
    "sessionId = str(uuid.uuid4())\n",
    "message = \"\"\"mike@mike.com - I bought a mug 10 weeks ago and now it's broken. I want a refund.\"\"\""
   ]
  },
  {
   "cell_type": "code",
   "execution_count": 13,
   "id": "16e8a50e",
   "metadata": {},
   "outputs": [],
   "source": [
    "bedrock_agent_runtime = boto3.client(service_name='bedrock-agent-runtime', region_name='us-west-2')"
   ]
  },
  {
   "cell_type": "code",
   "execution_count": 14,
   "id": "b2a58e81",
   "metadata": {},
   "outputs": [
    {
     "ename": "EventStreamError",
     "evalue": "An error occurred (resourceNotFoundException) when calling the InvokeAgent operation: Failed to retrieve resource because it doesn't exist. Retry the request with a different resource identifier.",
     "output_type": "error",
     "traceback": [
      "\u001b[0;31m---------------------------------------------------------------------------\u001b[0m",
      "\u001b[0;31mEventStreamError\u001b[0m                          Traceback (most recent call last)",
      "Cell \u001b[0;32mIn[14], line 12\u001b[0m\n\u001b[1;32m      1\u001b[0m invoke_agent_response \u001b[38;5;241m=\u001b[39m bedrock_agent_runtime\u001b[38;5;241m.\u001b[39minvoke_agent(\n\u001b[1;32m      2\u001b[0m     agentAliasId\u001b[38;5;241m=\u001b[39magentAliasId,\n\u001b[1;32m      3\u001b[0m     agentId\u001b[38;5;241m=\u001b[39magentId,\n\u001b[0;32m   (...)\u001b[0m\n\u001b[1;32m      7\u001b[0m     enableTrace\u001b[38;5;241m=\u001b[39m\u001b[38;5;28;01mTrue\u001b[39;00m,\n\u001b[1;32m      8\u001b[0m )\n\u001b[1;32m     10\u001b[0m event_stream \u001b[38;5;241m=\u001b[39m invoke_agent_response[\u001b[38;5;124m\"\u001b[39m\u001b[38;5;124mcompletion\u001b[39m\u001b[38;5;124m\"\u001b[39m]\n\u001b[0;32m---> 12\u001b[0m \u001b[38;5;28;43;01mfor\u001b[39;49;00m\u001b[43m \u001b[49m\u001b[43mevent\u001b[49m\u001b[43m \u001b[49m\u001b[38;5;129;43;01min\u001b[39;49;00m\u001b[43m \u001b[49m\u001b[43mevent_stream\u001b[49m\u001b[43m:\u001b[49m\n\u001b[1;32m     13\u001b[0m \u001b[43m    \u001b[49m\u001b[38;5;28;43;01mif\u001b[39;49;00m\u001b[43m \u001b[49m\u001b[38;5;124;43m'\u001b[39;49m\u001b[38;5;124;43mchunk\u001b[39;49m\u001b[38;5;124;43m'\u001b[39;49m\u001b[43m \u001b[49m\u001b[38;5;129;43;01min\u001b[39;49;00m\u001b[43m \u001b[49m\u001b[43mevent\u001b[49m\u001b[43m:\u001b[49m\n\u001b[1;32m     14\u001b[0m \u001b[43m        \u001b[49m\u001b[38;5;66;43;03m# Decode the bytes object to a string\u001b[39;49;00m\n\u001b[1;32m     15\u001b[0m \u001b[43m        \u001b[49m\u001b[43mchunk_text\u001b[49m\u001b[43m \u001b[49m\u001b[38;5;241;43m=\u001b[39;49m\u001b[43m \u001b[49m\u001b[43mevent\u001b[49m\u001b[43m[\u001b[49m\u001b[38;5;124;43m'\u001b[39;49m\u001b[38;5;124;43mchunk\u001b[39;49m\u001b[38;5;124;43m'\u001b[39;49m\u001b[43m]\u001b[49m\u001b[38;5;241;43m.\u001b[39;49m\u001b[43mget\u001b[49m\u001b[43m(\u001b[49m\u001b[38;5;124;43m'\u001b[39;49m\u001b[38;5;124;43mbytes\u001b[39;49m\u001b[38;5;124;43m'\u001b[39;49m\u001b[43m,\u001b[49m\u001b[43m \u001b[49m\u001b[38;5;124;43mb\u001b[39;49m\u001b[38;5;124;43m'\u001b[39;49m\u001b[38;5;124;43m'\u001b[39;49m\u001b[43m)\u001b[49m\u001b[38;5;241;43m.\u001b[39;49m\u001b[43mdecode\u001b[49m\u001b[43m(\u001b[49m\u001b[38;5;124;43m'\u001b[39;49m\u001b[38;5;124;43mutf-8\u001b[39;49m\u001b[38;5;124;43m'\u001b[39;49m\u001b[43m)\u001b[49m\n",
      "File \u001b[0;32m/media/mark/data/ES/building-ai-applications-labs/Agentic-on-Bedrock/myenv/lib/python3.12/site-packages/botocore/eventstream.py:592\u001b[0m, in \u001b[0;36mEventStream.__iter__\u001b[0;34m(self)\u001b[0m\n\u001b[1;32m    590\u001b[0m \u001b[38;5;28;01mdef\u001b[39;00m \u001b[38;5;21m__iter__\u001b[39m(\u001b[38;5;28mself\u001b[39m):\n\u001b[1;32m    591\u001b[0m     \u001b[38;5;28;01mfor\u001b[39;00m event \u001b[38;5;129;01min\u001b[39;00m \u001b[38;5;28mself\u001b[39m\u001b[38;5;241m.\u001b[39m_event_generator:\n\u001b[0;32m--> 592\u001b[0m         parsed_event \u001b[38;5;241m=\u001b[39m \u001b[38;5;28;43mself\u001b[39;49m\u001b[38;5;241;43m.\u001b[39;49m\u001b[43m_parse_event\u001b[49m\u001b[43m(\u001b[49m\u001b[43mevent\u001b[49m\u001b[43m)\u001b[49m\n\u001b[1;32m    593\u001b[0m         \u001b[38;5;28;01mif\u001b[39;00m parsed_event:\n\u001b[1;32m    594\u001b[0m             \u001b[38;5;28;01myield\u001b[39;00m parsed_event\n",
      "File \u001b[0;32m/media/mark/data/ES/building-ai-applications-labs/Agentic-on-Bedrock/myenv/lib/python3.12/site-packages/botocore/eventstream.py:608\u001b[0m, in \u001b[0;36mEventStream._parse_event\u001b[0;34m(self, event)\u001b[0m\n\u001b[1;32m    606\u001b[0m     \u001b[38;5;28;01mreturn\u001b[39;00m parsed_response\n\u001b[1;32m    607\u001b[0m \u001b[38;5;28;01melse\u001b[39;00m:\n\u001b[0;32m--> 608\u001b[0m     \u001b[38;5;28;01mraise\u001b[39;00m EventStreamError(parsed_response, \u001b[38;5;28mself\u001b[39m\u001b[38;5;241m.\u001b[39m_operation_name)\n",
      "\u001b[0;31mEventStreamError\u001b[0m: An error occurred (resourceNotFoundException) when calling the InvokeAgent operation: Failed to retrieve resource because it doesn't exist. Retry the request with a different resource identifier."
     ]
    }
   ],
   "source": [
    "invoke_agent_response = bedrock_agent_runtime.invoke_agent(\n",
    "    agentAliasId=agentAliasId,\n",
    "    agentId=agentId,\n",
    "    sessionId=sessionId,\n",
    "    inputText=message,\n",
    "    endSession=False,\n",
    "    enableTrace=True,\n",
    ")\n",
    "\n",
    "event_stream = invoke_agent_response[\"completion\"]\n",
    "\n",
    "for event in event_stream:\n",
    "    if 'chunk' in event:\n",
    "        # Decode the bytes object to a string\n",
    "        chunk_text = event['chunk'].get('bytes', b'').decode('utf-8')\n",
    "        print(json.dumps({'chunk': chunk_text}, indent=2))\n",
    "    else:\n",
    "        # For other event types, print as is\n",
    "        print(json.dumps(event, indent=2))"
   ]
  },
  {
   "cell_type": "code",
   "execution_count": null,
   "id": "b8d91418-5cb6-4748-9f0f-bd4aa7991cdd",
   "metadata": {},
   "outputs": [],
   "source": []
  },
  {
   "cell_type": "code",
   "execution_count": null,
   "id": "e9b91f92-ab3c-4352-9678-fc20e824bc55",
   "metadata": {},
   "outputs": [],
   "source": []
  },
  {
   "cell_type": "code",
   "execution_count": null,
   "id": "a8f03de8-d4fa-40f5-8ad7-02d7a02f9231",
   "metadata": {},
   "outputs": [],
   "source": []
  }
 ],
 "metadata": {
  "kernelspec": {
   "display_name": "Python 3 (ipykernel)",
   "language": "python",
   "name": "python3"
  },
  "language_info": {
   "codemirror_mode": {
    "name": "ipython",
    "version": 3
   },
   "file_extension": ".py",
   "mimetype": "text/x-python",
   "name": "python",
   "nbconvert_exporter": "python",
   "pygments_lexer": "ipython3",
   "version": "3.12.7"
  }
 },
 "nbformat": 4,
 "nbformat_minor": 5
}
