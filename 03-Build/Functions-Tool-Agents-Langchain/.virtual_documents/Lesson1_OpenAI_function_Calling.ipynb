


import os
import openai
from dotenv import load_dotenv
#os.environ['OPENAI_API_KEY'] = 'YOUR_KEY'
load_dotenv()
openai.api_key = os.getenv('OPENAI_API_KEY')


import json

def get_current_weather(location, unit="fahrenheit"):
    """Get the current weather in a given location"""
    weather_info = {
        "location": location,
        "temperature": "72",
        "unit": unit,
        "forecast": ["sunny", "windy"],
    }
    return json.dumps(weather_info)


functions = [{
    "name": "get_current_weather",
    "description": "get the current weather in a given location",
    "parameters": {
        "type": "object",
        "properties": {
            "location": {
                "type": "string",
                "description": "The city and state, e.g. San Francisco, CA",
            },
            "unit": {"type": "string", "enum": ["celsius", "fahrenheit"]},
        },
        "required": ["location"],
    },
}
]


messages = [{
    "role": "user",
    "content": "what's the weather like in Boston?"
}]



response = openai.ChatCompletion.create(
    model="gpt-4o",
    messages=messages,
    functions=functions
)

print(response)


response_message = response.choices[0].message
response_message


function_call = response.choices[0].message.function_call.name
function_call


args = json.loads(response.choices[0].message.function_call.arguments)


get_current_weather(args)


messages = [
    {
        "role": "user",
        "content": "hi!",
    }
]


response = openai.ChatCompletion.create(
    model="gpt-4o",
    messages=messages,
    functions=functions,
)
print(response)


response = openai.ChatCompletion.create(
    model="gpt-4o",
    messages=messages,
    functions=functions,
    function_call="auto"
)
print(response)


response = openai.ChatCompletion.create(
    model="gpt-4o",
    messages=messages,
    functions=functions,
    function_call="none"
)
print(response)


response = openai.ChatCompletion.create(
    model="gpt-4o",
    messages=messages,
    functions=functions,
    function_call={"name": "get_current_weather"}
)
print(response)


messages = [
    {
        "role": "user",
        "content": "What's the weather like in Boston!",
    }
]
response = openai.ChatCompletion.create(
    model="gpt-4o",
    messages=messages,
    functions=functions,
    function_call={"name": "get_current_weather"}
)
print(response)


messages.append(response.choices[0].message)


args = json.loads(response.choices[0].message.function_call.arguments)

observation = get_current_weather(args)


messages.append(
    {
        "role": "function",
        "name": "get_current_weather",
        "content": observation,
    }
)

response = openai.ChatCompletion.create(
    model="gpt-4o",
    messages=messages
)

print(response)
