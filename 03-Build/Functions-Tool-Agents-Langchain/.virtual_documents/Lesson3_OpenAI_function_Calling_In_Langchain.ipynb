


import os
import openai
from dotenv import load_dotenv
#os.environ['OPENAI_API_KEY'] = 'YOUR_key'

load_dotenv()

openai.api_key = os.getenv('OPENAI_API_KEY')

import warnings
warnings.filterwarnings("ignore", category=DeprecationWarning) 





class User:
    def __init__(self,name:str,age:int,email:str):
        self.name=name
        self.age=age
        self.email=email
    


foo=User(name="Joe",age=32,email="joe@gmail.com")


foo.name


foo=User(name="Joe",age="bar",email="joe@gmail.com")
foo.age


from typing import List
from pydantic import BaseModel, Field

class pUser(BaseModel):
    name:str
    age:int
    email:str


foo_p=pUser(name="Joe",age=32,email="joe@gmail.com")
foo_p.name


foo_p=pUser(name="Joe",age="55",email="joe@gmail.com")
foo_p.age


class Class(BaseModel):
    students:List[pUser]


obj=Class(students=[pUser(name="Joe",age=32,email="joe@gmail")])

obj





class WeatherSearch(BaseModel):
    """Call this with an airport code to get the weather at that airport"""
    airport_code: str = Field(description="airport code to get weather for")


from langchain.utils.openai_functions import convert_pydantic_to_openai_function

weather_function=convert_pydantic_to_openai_function(WeatherSearch)

weather_function


class WeatherSearch2(BaseModel):
    """Call this with an airport code to get the weather at that airport"""
    airport_code: str


convert_pydantic_to_openai_function(WeatherSearch2)


from langchain.chat_models import ChatOpenAI

model=ChatOpenAI()



model.invoke("what is the weather in SF today?", functions=[weather_function])



model_with_function=model.bind(functions=[weather_function])


model_with_function.invoke("what is the weather in sf")





model_with_forced_function = model.bind(functions=[weather_function], function_call={"name":"WeatherSearch"})


model_with_forced_function.invoke("what is the weather in sf?")


model_with_forced_function.invoke("hi!")





from langchain.prompts import ChatPromptTemplate

prompt=ChatPromptTemplate.from_messages([("system","You are a helpful assistant"),
("user","{input}")])

chain=prompt|model_with_function
chain.invoke({"input": "what is the weather in sf?"})





class ArtistSearch(BaseModel):
    """Call this to get the names of songs by a particular artist"""
    artist_name: str = Field(description="name of artist to look up")
    n: int = Field(description="number of results")


functions = [
    convert_pydantic_to_openai_function(WeatherSearch),
    convert_pydantic_to_openai_function(ArtistSearch),
]


model_with_functions=model.bind(functions=functions)
model_with_functions.invoke("what is the weather in sf?")


model_with_functions.invoke("what are three songs by taylor swift?")


model_with_functions.invoke("hi!")
