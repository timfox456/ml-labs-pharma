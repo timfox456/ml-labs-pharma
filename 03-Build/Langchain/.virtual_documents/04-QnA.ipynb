


import os
#os.environ['OPENAI_API_KEY'] = 'YOUR_KEY'
#os.environ['LLM_MODEL'] = 'gpt-4o'
from dotenv import load_dotenv, find_dotenv
_ = load_dotenv(find_dotenv()) # read local .env file





llm_model = os.environ['LLM_MODEL'] 


from langchain.chains import RetrievalQA
from langchain_openai import ChatOpenAI
from langchain.document_loaders import CSVLoader
from langchain.vectorstores import DocArrayInMemorySearch
from IPython.display import display, Markdown


file = 'OutdoorClothingCatalog_1000.csv'
loader = CSVLoader(file_path=file)


from langchain.indexes import VectorstoreIndexCreator


from langchain_openai import OpenAIEmbeddings
from langchain_openai import OpenAI

embeddings = OpenAIEmbeddings()
llm = OpenAI(temperature=0)



index = VectorstoreIndexCreator(
    vectorstore_cls=DocArrayInMemorySearch,
       embedding=embeddings
    
).from_loaders([loader])


query ="Please list all your shirts with sun protection \
in a table in markdown and summarize each one."


response = index.query(query, llm=llm) 



display(Markdown(response))





from langchain.document_loaders import CSVLoader
loader = CSVLoader(file_path=file)


docs = loader.load()


docs[0]


from langchain.embeddings import OpenAIEmbeddings
embeddings = OpenAIEmbeddings()


embed = embeddings.embed_query("Hi my name is Harrison")


print(len(embed))


print(embed[:5])


db = DocArrayInMemorySearch.from_documents(
    docs, 
    embeddings
)


query = "Please suggest a shirt with sunblocking"


docs = db.similarity_search(query)


len(docs)


docs[0]


retriever = db.as_retriever()


llm = ChatOpenAI(temperature = 0.0, model=llm_model)


qdocs = "".join([docs[i].page_content for i in range(len(docs))])



response = llm.call_as_llm(f"{qdocs} Question: Please list all your \
shirts with sun protection in a table in markdown and summarize each one.") 



display(Markdown(response))


qa_stuff = RetrievalQA.from_chain_type(
    llm=llm, 
    chain_type="stuff", 
    retriever=retriever, 
    verbose=True
)


query =  "Please list all your shirts with sun protection in a table \
in markdown and summarize each one."


response = qa_stuff.invoke(query)


display(Markdown(response["result"]))
