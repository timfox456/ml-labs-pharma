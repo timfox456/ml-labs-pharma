


import os

#os.environ['OPENAI_API_KEY'] = 'YOUR_KEY'
#os.environ['LLM_MODEL'] = 'gpt-4o'

from dotenv import load_dotenv, find_dotenv
_ = load_dotenv(find_dotenv()) # read local .env file





llm_model = os.environ['LLM_MODEL'] 





from langchain.chains import RetrievalQA
from langchain_openai import ChatOpenAI
from langchain.document_loaders import CSVLoader
from langchain.indexes import VectorstoreIndexCreator
from langchain.vectorstores import DocArrayInMemorySearch


file = 'OutdoorClothingCatalog_1000.csv'
loader = CSVLoader(file_path=file)
data = loader.load()


from langchain_openai import OpenAIEmbeddings
from langchain_openai import OpenAI

embeddings = OpenAIEmbeddings()
llm = OpenAI(temperature=0)



index = VectorstoreIndexCreator(
    vectorstore_cls=DocArrayInMemorySearch,
       embedding=embeddings
    
).from_loaders([loader])


llm = ChatOpenAI(temperature = 0.0, model=llm_model)
qa = RetrievalQA.from_chain_type(
    llm=llm, 
    chain_type="stuff", 
    retriever=index.vectorstore.as_retriever(), 
    verbose=True,
    chain_type_kwargs = {
        "document_separator": "<<<<>>>>>"
    }
)





data[10]


data[11]





examples = [
    {
        "query": "Do the Cozy Comfort Pullover Set\
        have side pockets?",
        "answer": "Yes"
    },
    {
        "query": "What collection is the Ultra-Lofty \
        850 Stretch Down Hooded Jacket from?",
        "answer": "The DownTek collection"
    }
]





from langchain.evaluation.qa import QAGenerateChain



example_gen_chain = QAGenerateChain.from_llm(ChatOpenAI(model=llm_model))


new_examples = example_gen_chain.invoke(
    [{"doc": t} for t in data[:5]]
)


new_examples


data[0]





examples += new_examples


qa.invoke(examples[0]["query"])





import langchain
langchain.debug = True


qa.invoke(examples[0]["query"])


# Turn off the debug mode
langchain.debug = False





predictions = qa.apply(examples)
examples = [
    item for item in examples if isinstance(item, dict) and "query" in item and "answer" in item
]



from langchain.evaluation.qa import QAEvalChain


llm = ChatOpenAI(temperature=0, model=llm_model)
eval_chain = QAEvalChain.from_llm(llm)


graded_outputs = eval_chain.evaluate(examples, predictions)


for i, eg in enumerate(examples):
    print(f"Example {i}:")
    print("Question: " + predictions[i]['query'])
    print("Real Answer: " + predictions[i]['answer'])
    print("Predicted Answer: " + predictions[i]['result'])
    print("Predicted Grade: " + graded_outputs[i]['results'])
    print()


graded_outputs[0]



