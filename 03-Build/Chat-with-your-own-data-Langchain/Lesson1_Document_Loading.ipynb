{
 "cells": [
  {
   "cell_type": "markdown",
   "id": "8f0c1e03e37f7501",
   "metadata": {
    "collapsed": false,
    "jupyter": {
     "outputs_hidden": false
    }
   },
   "source": [
    "# Document Loading"
   ]
  },
  {
   "cell_type": "markdown",
   "id": "3f582d4c26b75a7",
   "metadata": {
    "collapsed": false,
    "jupyter": {
     "outputs_hidden": false
    }
   },
   "source": [
    "## PDFs"
   ]
  },
  {
   "cell_type": "code",
   "execution_count": 1,
   "id": "initial_id",
   "metadata": {
    "ExecuteTime": {
     "end_time": "2024-07-18T04:25:46.084676Z",
     "start_time": "2024-07-18T04:25:45.079627Z"
    }
   },
   "outputs": [],
   "source": [
    "import os\n",
    "import openai\n",
    "from dotenv import load_dotenv\n",
    "from langchain.document_loaders import PyPDFLoader\n",
    "\n",
    "load_dotenv()\n",
    "\n",
    "openai.api_key=os.getenv(\"OPENAI_API_KEY\")"
   ]
  },
  {
   "cell_type": "code",
   "execution_count": 2,
   "id": "76cde835f3e50db5",
   "metadata": {
    "ExecuteTime": {
     "end_time": "2024-07-18T04:25:46.277960Z",
     "start_time": "2024-07-18T04:25:46.092513Z"
    },
    "collapsed": false,
    "jupyter": {
     "outputs_hidden": false
    }
   },
   "outputs": [],
   "source": [
    "loader=PyPDFLoader(\"./docs/MachineLearning-Lecture01.pdf\")\n",
    "pages=loader.load()"
   ]
  },
  {
   "cell_type": "code",
   "execution_count": 3,
   "id": "e6913db7bcf646ee",
   "metadata": {
    "ExecuteTime": {
     "end_time": "2024-07-18T04:25:46.284642Z",
     "start_time": "2024-07-18T04:25:46.278924Z"
    },
    "collapsed": false,
    "jupyter": {
     "outputs_hidden": false
    }
   },
   "outputs": [
    {
     "data": {
      "text/plain": [
       "22"
      ]
     },
     "execution_count": 3,
     "metadata": {},
     "output_type": "execute_result"
    }
   ],
   "source": [
    "len(pages)"
   ]
  },
  {
   "cell_type": "code",
   "execution_count": 4,
   "id": "341cdf9eb94bf666",
   "metadata": {
    "ExecuteTime": {
     "end_time": "2024-07-18T04:25:46.292274Z",
     "start_time": "2024-07-18T04:25:46.289264Z"
    },
    "collapsed": false,
    "jupyter": {
     "outputs_hidden": false
    }
   },
   "outputs": [],
   "source": [
    "page=pages[0]"
   ]
  },
  {
   "cell_type": "code",
   "execution_count": 5,
   "id": "cac74870eeffd976",
   "metadata": {
    "ExecuteTime": {
     "end_time": "2024-07-18T04:25:46.297074Z",
     "start_time": "2024-07-18T04:25:46.293746Z"
    },
    "collapsed": false,
    "jupyter": {
     "outputs_hidden": false
    }
   },
   "outputs": [
    {
     "name": "stdout",
     "output_type": "stream",
     "text": [
      "MachineLearning-Lecture01  \n",
      "Instructor (Andrew Ng): Okay. Good morning. Welcome to CS229, the machine \n",
      "learning class. So what I wanna do today is just spend a little time going over the logistics \n",
      "of the class, and then we'll start to talk a bit about machine learning.  \n",
      "By way of introduction, my name's Andrew Ng and I'll be instructor for this class. And so \n",
      "I personally work in machine learning, and I've worked on it for about 15 years now, and \n",
      "I actually think that machine learning is the \n"
     ]
    }
   ],
   "source": [
    "print(page.page_content[0:500])"
   ]
  },
  {
   "cell_type": "code",
   "execution_count": 6,
   "id": "98d94df2aeae1b2e",
   "metadata": {
    "ExecuteTime": {
     "end_time": "2024-07-18T04:25:46.305876Z",
     "start_time": "2024-07-18T04:25:46.298572Z"
    },
    "collapsed": false,
    "jupyter": {
     "outputs_hidden": false
    }
   },
   "outputs": [
    {
     "data": {
      "text/plain": [
       "{'producer': 'Acrobat Distiller 8.1.0 (Windows)',\n",
       " 'creator': 'PScript5.dll Version 5.2.2',\n",
       " 'creationdate': '2008-07-11T11:25:23-07:00',\n",
       " 'author': '',\n",
       " 'moddate': '2008-07-11T11:25:23-07:00',\n",
       " 'title': '',\n",
       " 'source': './docs/MachineLearning-Lecture01.pdf',\n",
       " 'total_pages': 22,\n",
       " 'page': 0,\n",
       " 'page_label': '1'}"
      ]
     },
     "execution_count": 6,
     "metadata": {},
     "output_type": "execute_result"
    }
   ],
   "source": [
    "page.metadata"
   ]
  },
  {
   "cell_type": "markdown",
   "id": "b6cb6abd92982aed",
   "metadata": {
    "collapsed": false,
    "jupyter": {
     "outputs_hidden": false
    }
   },
   "source": [
    "# YouTube"
   ]
  },
  {
   "cell_type": "code",
   "execution_count": 7,
   "id": "ceef4a23c1e18c6e",
   "metadata": {
    "ExecuteTime": {
     "end_time": "2024-07-18T04:25:46.318238Z",
     "start_time": "2024-07-18T04:25:46.307855Z"
    },
    "collapsed": false,
    "jupyter": {
     "outputs_hidden": false
    }
   },
   "outputs": [],
   "source": [
    "from langchain_community.document_loaders import YoutubeLoader"
   ]
  },
  {
   "cell_type": "code",
   "execution_count": 8,
   "id": "27964cef67babcd0",
   "metadata": {
    "ExecuteTime": {
     "end_time": "2024-07-18T04:25:47.444561Z",
     "start_time": "2024-07-18T04:25:46.320177Z"
    },
    "collapsed": false,
    "jupyter": {
     "outputs_hidden": false
    }
   },
   "outputs": [],
   "source": [
    "url=\"https://www.youtube.com/watch?v=jGwO_UgTS7I\"\n",
    "save_dir=\"./docs/youtube/\"\n",
    "\n",
    "loader=YoutubeLoader.from_youtube_url(url,add_video_info=False)\n",
    "\n",
    "docs=loader.load()"
   ]
  },
  {
   "cell_type": "code",
   "execution_count": 9,
   "id": "8b0c88c3ccc94c25",
   "metadata": {
    "ExecuteTime": {
     "end_time": "2024-07-18T04:25:47.449335Z",
     "start_time": "2024-07-18T04:25:47.445647Z"
    },
    "collapsed": false,
    "jupyter": {
     "outputs_hidden": false
    }
   },
   "outputs": [
    {
     "data": {
      "text/plain": [
       "\"Welcome to CS229 Machine Learning. Uh, some of you know that this class has been taught at Stanford for a long time. And this is often the course that, um, I most look forward to teaching each year because this is where we've helped I think, several generations of Stanford students become experts in machine learning, go on to build many of their products and services and startups that I'm sure many of you are pre- or all of you are using, uh, uh, today. Um, so what I want to do today was spend s\""
      ]
     },
     "execution_count": 9,
     "metadata": {},
     "output_type": "execute_result"
    }
   ],
   "source": [
    "docs[0].page_content[0:500]"
   ]
  },
  {
   "cell_type": "markdown",
   "id": "e8a0859fe3d6fbb8",
   "metadata": {
    "collapsed": false,
    "jupyter": {
     "outputs_hidden": false
    }
   },
   "source": [
    "## URLs"
   ]
  },
  {
   "cell_type": "code",
   "execution_count": 10,
   "id": "bd04b5682512ac74",
   "metadata": {
    "ExecuteTime": {
     "end_time": "2024-07-18T04:25:47.571491Z",
     "start_time": "2024-07-18T04:25:47.451190Z"
    },
    "collapsed": false,
    "jupyter": {
     "outputs_hidden": false
    }
   },
   "outputs": [],
   "source": [
    "import os \n",
    "os.environ['USER_AGENT'] = 'myagent'\n",
    "from langchain.document_loaders import WebBaseLoader\n",
    "\n",
    "loader = WebBaseLoader(\"https://python.langchain.com/v0.2/docs/integrations/document_loaders/youtube_audio/\")"
   ]
  },
  {
   "cell_type": "code",
   "execution_count": 11,
   "id": "ad7785915c9f0f3e",
   "metadata": {
    "ExecuteTime": {
     "end_time": "2024-07-18T04:25:48.242356Z",
     "start_time": "2024-07-18T04:25:47.572903Z"
    },
    "collapsed": false,
    "jupyter": {
     "outputs_hidden": false
    }
   },
   "outputs": [
    {
     "data": {
      "text/plain": [
       "'YouTube audio | 🦜️🔗 LangChain\\n\\n\\n\\n\\n\\n\\n\\nSkip to main contentA newer LangChain version is out! Check out the latest version.IntegrationsAPI referenceLatestLegacyMorePeopleContributingCookbooks3rd party tutorialsYouTubearXivv0.2Latestv0.2v0.1🦜️🔗LangSmithLangSmith DocsLangChain HubJS/TS Docs💬SearchProvidersProvidersAnthropicAWSGoogleHugging FaceMicrosoftOpenAIMoreComponentsChat modelsChat modelsAI21 LabsAlibaba Cloud PAI EASAnthropic[Deprecated] Experimental Anthropic Tools WrapperAnyscaleAzure O'"
      ]
     },
     "execution_count": 11,
     "metadata": {},
     "output_type": "execute_result"
    }
   ],
   "source": [
    "docs=loader.load()\n",
    "\n",
    "docs[0].page_content[0:500].strip()"
   ]
  },
  {
   "cell_type": "markdown",
   "id": "9aaf8a0f88b5b5a",
   "metadata": {
    "collapsed": false,
    "jupyter": {
     "outputs_hidden": false
    }
   },
   "source": [
    "## Notion DB"
   ]
  },
  {
   "cell_type": "code",
   "execution_count": 12,
   "id": "94afc80fd9ec0154",
   "metadata": {
    "ExecuteTime": {
     "end_time": "2024-07-18T04:25:48.250435Z",
     "start_time": "2024-07-18T04:25:48.243354Z"
    },
    "collapsed": false,
    "jupyter": {
     "outputs_hidden": false
    }
   },
   "outputs": [],
   "source": [
    "from langchain.document_loaders import NotionDirectoryLoader\n",
    "loader = NotionDirectoryLoader(\"./docs/Notion_DB\")\n",
    "docs=loader.load()"
   ]
  },
  {
   "cell_type": "code",
   "execution_count": 13,
   "id": "b31aa66a27ab6fe7",
   "metadata": {
    "ExecuteTime": {
     "end_time": "2024-07-18T04:25:48.257799Z",
     "start_time": "2024-07-18T04:25:48.252383Z"
    },
    "collapsed": false,
    "jupyter": {
     "outputs_hidden": false
    }
   },
   "outputs": [
    {
     "name": "stdout",
     "output_type": "stream",
     "text": [
      "# Your check-list\n",
      "\n",
      "To give you an idea of how and when to approach all the different topics, here's a checklist with a timeline. You can duplicate this page for your own use.\n",
      "\n",
      "**Daily**\n",
      "\n",
      "- [ ]  Give c\n"
     ]
    }
   ],
   "source": [
    "print(docs[0].page_content[0:200])"
   ]
  },
  {
   "cell_type": "code",
   "execution_count": 14,
   "id": "7ab1e9a4756ac6d1",
   "metadata": {
    "ExecuteTime": {
     "end_time": "2024-07-18T04:25:48.265007Z",
     "start_time": "2024-07-18T04:25:48.260843Z"
    },
    "collapsed": false,
    "jupyter": {
     "outputs_hidden": false
    }
   },
   "outputs": [
    {
     "data": {
      "text/plain": [
       "{'source': 'docs/Notion_DB/Your check-list 07455ff3b1364229bfc1ae3462e58030.md'}"
      ]
     },
     "execution_count": 14,
     "metadata": {},
     "output_type": "execute_result"
    }
   ],
   "source": [
    "docs[0].metadata"
   ]
  },
  {
   "cell_type": "code",
   "execution_count": null,
   "id": "7a8278db-a8d8-4e82-a24b-224888cf8d6d",
   "metadata": {},
   "outputs": [],
   "source": []
  }
 ],
 "metadata": {
  "kernelspec": {
   "display_name": "My env",
   "language": "python",
   "name": "myenv"
  },
  "language_info": {
   "codemirror_mode": {
    "name": "ipython",
    "version": 3
   },
   "file_extension": ".py",
   "mimetype": "text/x-python",
   "name": "python",
   "nbconvert_exporter": "python",
   "pygments_lexer": "ipython3",
   "version": "3.12.7"
  }
 },
 "nbformat": 4,
 "nbformat_minor": 5
}
