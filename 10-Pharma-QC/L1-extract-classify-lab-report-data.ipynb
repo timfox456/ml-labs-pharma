{
 "cells": [
  {
   "cell_type": "markdown",
   "id": "16cc243a",
   "metadata": {},
   "source": [
    "# Lab: Extract and Classify Lab Report Data with AI\n",
    "\n",
    "**Goal:** In this lab, you will build an AI-powered pipeline to parse unstructured text from a pharmaceutical Quality Control (QC) lab report and convert it into structured, usable data. \n",
    "\n",
    "**Key Concepts:**\n",
    "- **Unstructured vs. Structured Data:** Recognizing the challenge of working with free-form text.\n",
    "- **Function Calling / Tool Use:** Using modern LLM capabilities to reliably extract information.\n",
    "- **Data Schemas (Pydantic):** Defining a clear, validated structure for our desired output.\n",
    "\n",
    "---\n",
    "\n",
    "## 1. Setup\n",
    "\n",
    "First, let's install the necessary libraries. We'll need `openai` to interact with the LLM and `pydantic` to define our data schemas."
   ]
  },
  {
   "cell_type": "code",
   "execution_count": null,
   "id": "2a15b768",
   "metadata": {},
   "outputs": [],
   "source": [
    "%pip install openai pydantic python-dotenv\n",
    "\n",
    "import os\n",
    "import openai\n",
    "from pydantic import BaseModel, Field, validator\n",
    "from typing import List, Optional\n",
    "from dotenv import load_dotenv\n",
    "\n",
    "# Load environment variables from a .env file\n",
    "load_dotenv()\n",
    "openai.api_key = os.getenv(\"OPENAI_API_KEY\")"
   ]
  },
  {
   "cell_type": "markdown",
   "id": "b0d0d352",
   "metadata": {},
   "source": [
    "## 2. The Challenge: Unstructured Lab Reports\n",
    "\n",
    "In pharmaceutical QC, data often comes in formats like PDFs or plain text files. This is \"unstructured\" data. It's easy for a human to read but difficult for a computer to process.\n",
    "\n",
    "Let's start by loading and examining our sample lab report."
   ]
  },
  {
   "cell_type": "code",
   "execution_count": null,
   "id": "1e2ee4ae",
   "metadata": {
    "lines_to_end_of_cell_marker": 0,
    "lines_to_next_cell": 1
   },
   "outputs": [],
   "source": [
    "# Load the sample lab report\n",
    "try:\n",
    "    with open(\"data/lab_report_01.txt\", \"r\") as f:\n",
    "        lab_report_text = f.read()\n",
    "    print(lab_report_text)\n",
    "except FileNotFoundError:\n",
    "    print(\"Error: Make sure 'data/lab_report_01.txt' exists.\")\n",
    "    lab_report_text = \"\""
   ]
  },
  {
   "cell_type": "markdown",
   "id": "5285a4d2",
   "metadata": {},
   "source": [
    "### The Problem with Traditional Methods\n",
    "\n",
    "Traditionally, you might use Regular Expressions (Regex) to parse this text. However, regex is:\n",
    "- **Brittle:** A small change in the report format can break the entire script.\n",
    "- **Complex:** Writing and debugging regex for complex documents is very difficult.\n",
    "- **Not Scalable:** You need to write new patterns for every new report format.\n",
    "\n",
    "AI offers a more flexible and robust solution.\n",
    "\n",
    "---\n",
    "\n",
    "## 3. Defining Our Target Data Structure with Pydantic\n",
    "\n",
    "Before we can extract data, we need to define what we want to extract. A data schema is a formal blueprint of our desired output. We will use Pydantic, a library for data validation and settings management using Python type annotations.\n",
    "\n",
    "We want to extract key information like the `batch_id`, `conclusion`, and a list of all the `tests` performed."
   ]
  },
  {
   "cell_type": "code",
   "execution_count": null,
   "id": "059574d8",
   "metadata": {
    "lines_to_end_of_cell_marker": 0,
    "lines_to_next_cell": 1
   },
   "outputs": [],
   "source": [
    "class TestResult(BaseModel):\n",
    "    \"\"\"A model to hold the results of a single QC test.\"\"\"\n",
    "    test_name: str = Field(..., description=\"The official name of the test, e.g., 'Assay (Purity)'.\")\n",
    "    method: Optional[str] = Field(None, description=\"The method or standard used for the test, e.g., 'HPLC-UV/VIS-001'.\")\n",
    "    specification: str = Field(..., description=\"The acceptance criteria for the test, e.g., '99.5% - 100.5%'.\")\n",
    "    result: str = Field(..., description=\"The actual measured result of the test, e.g., '99.87%' or 'Conforms'.\")\n",
    "\n",
    "class LabReport(BaseModel):\n",
    "    \"\"\"The top-level model for the entire Certificate of Analysis.\"\"\"\n",
    "    batch_id: str = Field(..., description=\"The unique identifier for the batch.\")\n",
    "    product_name: str = Field(..., description=\"The name of the product being tested.\")\n",
    "    conclusion: str = Field(..., description=\"The final conclusion of the report, e.g., 'meets all specifications'.\")\n",
    "    tests: List[TestResult] = Field(..., description=\"A list of all tests performed.\")"
   ]
  },
  {
   "cell_type": "markdown",
   "id": "f803ff6b",
   "metadata": {},
   "source": [
    "**Why Pydantic is great:**\n",
    "- **Clear & Readable:** The schema is self-documenting.\n",
    "- **Validation:** It automatically validates the data extracted by the LLM. If the LLM returns a `result` that isn't a string, Pydantic will raise an error.\n",
    "- **IDE Support:** Autocompletion and type-checking make your code more robust.\n",
    "\n",
    "---\n",
    "\n",
    "## 4. Using AI for Extraction (Function Calling)\n",
    "\n",
    "Now for the core of our lab. We will ask an LLM to act as our data extractor. We provide it with two things:\n",
    "1. The **unstructured text** (our lab report).\n",
    "2. The **schema** of the data we want (our `LabReport` Pydantic model).\n",
    "\n",
    "We will use the **OpenAI Function Calling** feature. We give the model a \"tool\" (a function) that it can call, and the parameters of that tool are defined by our Pydantic schema."
   ]
  },
  {
   "cell_type": "code",
   "execution_count": null,
   "id": "28d7eaa9",
   "metadata": {},
   "outputs": [],
   "source": [
    "def extract_lab_data(report_text: str):\n",
    "    \"\"\"\n",
    "    Uses an OpenAI LLM to parse a lab report and extract structured data.\n",
    "    \"\"\"\n",
    "    client = openai.OpenAI()\n",
    "    \n",
    "    try:\n",
    "        response = client.chat.completions.create(\n",
    "            model=\"gpt-4-turbo\",\n",
    "            messages=[\n",
    "                {\n",
    "                    \"role\": \"system\",\n",
    "                    \"content\": \"You are a highly accurate data extraction assistant. Your task is to extract information from a pharmaceutical lab report and structure it according to the provided schema. Do not miss any details.\"\n",
    "                },\n",
    "                {\n",
    "                    \"role\": \"user\",\n",
    "                    \"content\": f\"Please extract the data from the following lab report:\\n\\n---\\n{report_text}\\n---\"\n",
    "                }\n",
    "            ],\n",
    "            tools=[\n",
    "                {\n",
    "                    \"type\": \"function\",\n",
    "                    \"function\": {\n",
    "                        \"name\": \"structure_lab_report\",\n",
    "                        \"description\": \"Formats the extracted lab report data.\",\n",
    "                        \"parameters\": LabReport.model_json_schema()\n",
    "                    }\n",
    "                }\n",
    "            ],\n",
    "            tool_choice={\"type\": \"function\", \"function\": {\"name\": \"structure_lab_report\"}}\n",
    "        )\n",
    "        \n",
    "        # The model's response includes the arguments for the function call\n",
    "        tool_calls = response.choices[0].message.tool_calls\n",
    "        if tool_calls:\n",
    "            arguments = tool_calls[0].function.arguments\n",
    "            # Parse the JSON arguments into our Pydantic model\n",
    "            structured_data = LabReport.model_validate_json(arguments)\n",
    "            return structured_data\n",
    "\n",
    "    except Exception as e:\n",
    "        print(f\"An error occurred: {e}\")\n",
    "        return None\n",
    "\n",
    "# Let's run the extraction\n",
    "if lab_report_text:\n",
    "    structured_report = extract_lab_data(lab_report_text)\n",
    "    if structured_report:\n",
    "        print(\"Extraction Successful!\")"
   ]
  },
  {
   "cell_type": "markdown",
   "id": "e7ca9aa0",
   "metadata": {},
   "source": [
    "## 5. Analyzing the Structured Output\n",
    "\n",
    "If the extraction was successful, `structured_report` is now a Pydantic object. It's no longer just text; it's a Python object with attributes and types that we can work with programmatically.\n",
    "\n",
    "Let's inspect the extracted data."
   ]
  },
  {
   "cell_type": "code",
   "execution_count": null,
   "id": "67d91831",
   "metadata": {
    "lines_to_end_of_cell_marker": 0,
    "lines_to_next_cell": 1
   },
   "outputs": [],
   "source": [
    "if 'structured_report' in locals() and structured_report:\n",
    "    print(f\"Batch ID: {structured_report.batch_id}\")\n",
    "    print(f\"Product Name: {structured_report.product_name}\")\n",
    "    print(\"\"\"--------------------\"\"\")\n",
    "    \n",
    "    # Loop through the extracted tests\n",
    "    for test in structured_report.tests:\n",
    "        print(f\"Test: {test.test_name}\")\n",
    "        print(f\"  - Specification: {test.specification}\")\n",
    "        print(f\"  - Result: {test.result}\")\n",
    "        print(f\"  - Method: {test.method or 'N/A'}\")\n",
    "    \n",
    "    print(\"\"\"--------------------\"\"\")\n",
    "    print(f\"Conclusion: {structured_report.conclusion}\")"
   ]
  },
  {
   "cell_type": "markdown",
   "id": "4f1c64d8",
   "metadata": {},
   "source": [
    "### Exercise 1: Automated Classification\n",
    "\n",
    "Now that the data is structured, we can easily build logic on top of it.\n",
    "\n",
    "**Your Task:** Write a function `classify_batch(report: LabReport)` that automatically determines if a batch should be **\"APPROVED\"** or **\"FLAGGED FOR REVIEW\"**.\n",
    "\n",
    "A batch should be flagged if:\n",
    "1. The `conclusion` contains words like \"fail\", \"out of spec\", or \"does not meet\".\n",
    "2. Any test `result` is \"Fails\" or does not conform.\n",
    "\n",
    "*Hint: You can check for substrings in the `conclusion` and `result` fields.*"
   ]
  },
  {
   "cell_type": "code",
   "execution_count": null,
   "id": "1b42e384",
   "metadata": {},
   "outputs": [],
   "source": [
    "# YOUR CODE HERE\n",
    "def classify_batch(report: LabReport) -> str:\n",
    "    \"\"\"\n",
    "    Analyzes a structured lab report to provide a final classification.\n",
    "    \"\"\"\n",
    "    # Check the main conclusion first\n",
    "    negative_keywords = [\"fail\", \"out of spec\", \"does not meet\"]\n",
    "    if any(keyword in report.conclusion.lower() for keyword in negative_keywords):\n",
    "        return \"FLAGGED FOR REVIEW\"\n",
    "        \n",
    "    # Check each individual test result\n",
    "    for test in report.tests:\n",
    "        if \"fail\" in test.result.lower() or \"does not conform\" in test.result.lower():\n",
    "            return \"FLAGGED FOR REVIEW\"\n",
    "            \n",
    "    return \"APPROVED\"\n",
    "\n",
    "# Test your function\n",
    "if 'structured_report' in locals() and structured_report:\n",
    "    classification = classify_batch(structured_report)\n",
    "    print(f\"Automated Classification: {classification}\")"
   ]
  },
  {
   "cell_type": "markdown",
   "id": "78b28974",
   "metadata": {},
   "source": [
    "### Exercise 2: Convert to a Dictionary or JSON\n",
    "\n",
    "The structured data can be easily exported for storage in a database or for sending over an API.\n",
    "\n",
    "**Your Task:** Convert the `structured_report` object into a JSON string.\n",
    "\n",
    "*Hint: Pydantic models have a built-in method for this. Look for a method like `model_dump_json`.*"
   ]
  },
  {
   "cell_type": "code",
   "execution_count": null,
   "id": "555092a3",
   "metadata": {},
   "outputs": [],
   "source": [
    "if 'structured_report' in locals() and structured_report:\n",
    "    # YOUR CODE HERE\n",
    "    report_json = structured_report.model_dump_json(indent=2)\n",
    "    \n",
    "    print(\"Report as JSON:\")\n",
    "    print(report_json)"
   ]
  },
  {
   "cell_type": "markdown",
   "id": "bfa58884",
   "metadata": {},
   "source": [
    "---\n",
    "\n",
    "## Conclusion\n",
    "\n",
    "Congratulations! You have successfully built an AI pipeline to:\n",
    "1. **Load** unstructured data from a text file.\n",
    "2. **Define** a target data schema using Pydantic.\n",
    "3. **Extract** the data using an LLM with function calling.\n",
    "4. **Analyze** the resulting structured data to make automated decisions.\n",
    "\n",
    "This approach is significantly more powerful and adaptable than traditional parsing methods and is a foundational technique for building modern AI applications in the pharmaceutical industry."
   ]
  }
 ],
 "metadata": {
  "kernelspec": {
   "display_name": "Python 3 (ipykernel)",
   "language": "python",
   "name": "python3"
  }
 },
 "nbformat": 4,
 "nbformat_minor": 5
}
