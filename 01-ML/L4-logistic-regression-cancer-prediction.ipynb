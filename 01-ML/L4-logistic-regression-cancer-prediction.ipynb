{
 "cells": [
  {
   "cell_type": "markdown",
   "id": "38d5409d",
   "metadata": {},
   "source": [
    "---\n",
    "jupyter:\n",
    "  jupytext:\n",
    "    text_representation:\n",
    "      extension: .py\n",
    "      format_name: light\n",
    "      format_version: '1.5'\n",
    "      jupytext_version: 1.16.1\n",
    "  kernelspec:\n",
    "    display_name: Python 3 (ipykernel)\n",
    "    language: python\n",
    "    name: python3\n",
    "# ---"
   ]
  },
  {
   "cell_type": "markdown",
   "id": "66ae03be",
   "metadata": {},
   "source": [
    "# Lab: Logistic Regression for Binary Classification\n",
    "\n",
    "**Goal:** In this lab, you will build a logistic regression model to predict whether a tumor is malignant or benign based on medical measurements.\n",
    "\n",
    "**Key Concepts:**\n",
    "- **Binary Classification:** Predicting one of two possible outcomes.\n",
    "- **Logistic Regression:** A fundamental algorithm for classification tasks.\n",
    "- **Model Evaluation:** Using accuracy and a confusion matrix to assess performance.\n",
    "\n",
    "---\n",
    "\n",
    "## 1. Setup\n",
    "\n",
    "We'll use `scikit-learn` for the model and dataset, `pandas` for data handling, and `seaborn` for plotting."
   ]
  },
  {
   "cell_type": "code",
   "execution_count": null,
   "id": "f5b1e205",
   "metadata": {},
   "outputs": [],
   "source": [
    "import pandas as pd\n",
    "import seaborn as sns\n",
    "import matplotlib.pyplot as plt\n",
    "from sklearn.model_selection import train_test_split\n",
    "from sklearn.linear_model import LogisticRegression\n",
    "from sklearn.metrics import accuracy_score, confusion_matrix\n",
    "from sklearn.datasets import load_breast_cancer"
   ]
  },
  {
   "cell_type": "markdown",
   "id": "2725c2fb",
   "metadata": {},
   "source": [
    "## 2. Load and Explore the Data\n",
    "\n",
    "We will use the Breast Cancer Wisconsin dataset, which is conveniently included in scikit-learn."
   ]
  },
  {
   "cell_type": "code",
   "execution_count": null,
   "id": "23aec025",
   "metadata": {},
   "outputs": [],
   "source": [
    "# Load the dataset\n",
    "cancer = load_breast_cancer()\n",
    "X = pd.DataFrame(cancer.data, columns=cancer.feature_names)\n",
    "y = pd.Series(cancer.target)\n",
    "\n",
    "# Display the first few rows of the features\n",
    "print(\"---\", \"Features (X) ---\")\n",
    "print(X.head())\n",
    "\n",
    "# Display the target variable info\n",
    "print(\"\\n--- Target (y) ---\")\n",
    "print(f\"Target names: {cancer.target_names}\")\n",
    "print(f\"Target distribution:\\n{y.value_counts()}\")"
   ]
  },
  {
   "cell_type": "markdown",
   "id": "3426b968",
   "metadata": {},
   "source": [
    "## 3. Prepare the Data\n",
    "\n",
    "The data is already clean. Our only step is to split it into training and testing sets. This ensures we can evaluate our model on data it has never seen before."
   ]
  },
  {
   "cell_type": "code",
   "execution_count": null,
   "id": "06402a13",
   "metadata": {},
   "outputs": [],
   "source": [
    "# Split the data into training (80%) and testing (20%) sets\n",
    "X_train, X_test, y_train, y_test = train_test_split(X, y, test_size=0.2, random_state=42)\n",
    "\n",
    "print(f\"Training set shape: {X_train.shape}\")\n",
    "print(f\"Testing set shape: {X_test.shape}\")"
   ]
  },
  {
   "cell_type": "markdown",
   "id": "26903a5a",
   "metadata": {},
   "source": [
    "## 4. Build and Train the Logistic Regression Model\n",
    "\n",
    "We will now create an instance of the `LogisticRegression` model and fit it to our training data."
   ]
  },
  {
   "cell_type": "code",
   "execution_count": null,
   "id": "d7d0c920",
   "metadata": {},
   "outputs": [],
   "source": [
    "# Initialize the model\n",
    "# We increase max_iter to ensure the model converges.\n",
    "model = LogisticRegression(max_iter=10000)\n",
    "\n",
    "# Train the model\n",
    "print(\"Training the model...\")\n",
    "model.fit(X_train, y_train)\n",
    "print(\"Model training complete.\")"
   ]
  },
  {
   "cell_type": "markdown",
   "id": "ae8a9f92",
   "metadata": {},
   "source": [
    "## 5. Evaluate the Model\n",
    "\n",
    "Now that the model is trained, let's see how well it performs on the unseen test data.\n",
    "\n",
    "### Make Predictions"
   ]
  },
  {
   "cell_type": "code",
   "execution_count": null,
   "id": "2f4e1e4b",
   "metadata": {},
   "outputs": [],
   "source": [
    "# Make predictions on the test set\n",
    "y_pred = model.predict(X_test)"
   ]
  },
  {
   "cell_type": "markdown",
   "id": "bc53397f",
   "metadata": {},
   "source": [
    "### Check Accuracy\n",
    "Accuracy is the simplest metric: the proportion of correct predictions."
   ]
  },
  {
   "cell_type": "code",
   "execution_count": null,
   "id": "a3e04c8a",
   "metadata": {},
   "outputs": [],
   "source": [
    "# Calculate the accuracy\n",
    "accuracy = accuracy_score(y_test, y_pred)\n",
    "print(f\"Model Accuracy: {accuracy:.4f}\")"
   ]
  },
  {
   "cell_type": "markdown",
   "id": "9934c853",
   "metadata": {},
   "source": [
    "### Confusion Matrix\n",
    "A confusion matrix gives us a more detailed look at the model's performance, showing us what it got right and what it got wrong.\n",
    "\n",
    "- **True Positives (TP):** Correctly predicted positive (e.g., correctly identified as benign).\n",
    "- **True Negatives (TN):** Correctly predicted negative (e.g., correctly identified as malignant).\n",
    "- **False Positives (FP):** Incorrectly predicted positive (e.g., malignant tumor classified as benign - **Type I Error**).\n",
    "- **False Negatives (FN):** Incorrectly predicted negative (e.g., benign tumor classified as malignant - **Type II Error**)."
   ]
  },
  {
   "cell_type": "code",
   "execution_count": null,
   "id": "e529a27a",
   "metadata": {},
   "outputs": [],
   "source": [
    "# Generate the confusion matrix\n",
    "cm = confusion_matrix(y_test, y_pred)\n",
    "\n",
    "# Plot the confusion matrix\n",
    "plt.figure(figsize=(8, 6))\n",
    "sns.heatmap(cm, annot=True, fmt='d', cmap='Blues', xticklabels=cancer.target_names, yticklabels=cancer.target_names)\n",
    "plt.xlabel('Predicted Label')\n",
    "plt.ylabel('True Label')\n",
    "plt.title('Confusion Matrix')\n",
    "plt.show()"
   ]
  },
  {
   "cell_type": "markdown",
   "id": "22462f5e",
   "metadata": {},
   "source": [
    "**Analysis:** The confusion matrix shows us exactly how many malignant and benign tumors were classified correctly and incorrectly. In a medical context, we are often most concerned with **False Positives** (classifying a malignant tumor as benign), as this is the most dangerous type of error.\n",
    "\n",
    "---\n",
    "\n",
    "## Conclusion\n",
    "\n",
    "In this lab, you have successfully built and evaluated a logistic regression model for a real-world classification task. You learned how to:\n",
    "1.  Load a standard dataset from scikit-learn.\n",
    "2.  Split data into training and testing sets.\n",
    "3.  Train a logistic regression classifier.\n",
    "4.  Evaluate the model's performance using both accuracy and a confusion matrix."
   ]
  }
 ],
 "metadata": {
  "jupytext": {
   "cell_metadata_filter": "-all",
   "main_language": "python",
   "notebook_metadata_filter": "-all"
  }
 },
 "nbformat": 4,
 "nbformat_minor": 5
}
