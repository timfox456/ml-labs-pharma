{
 "cells": [
  {
   "cell_type": "markdown",
   "id": "8736393c",
   "metadata": {},
   "source": [
    "---\n",
    "jupyter:\n",
    "  jupytext:\n",
    "    text_representation:\n",
    "      extension: .py\n",
    "      format_name: light\n",
    "      format_version: '1.5'\n",
    "      jupytext_version: 1.16.1\n",
    "  kernelspec:\n",
    "    display_name: Python 3 (ipykernel)\n",
    "    language: python\n",
    "    name: python3\n",
    "# ---"
   ]
  },
  {
   "cell_type": "markdown",
   "id": "d7cf8a71",
   "metadata": {},
   "source": [
    "# Lab: K-Means Clustering for Unsupervised Learning\n",
    "\n",
    "**Goal:** In this lab, you will explore unsupervised learning by using the K-Means algorithm to find clusters in a dataset where you don't have any labels.\n",
    "\n",
    "**Key Concepts:**\n",
    "- **Unsupervised Learning:** Finding patterns in data without pre-existing labels.\n",
    "- **Clustering:** Grouping similar data points together.\n",
    "- **K-Means Algorithm:** An iterative algorithm for partitioning data into K clusters.\n",
    "\n",
    "---\n",
    "\n",
    "## 1. Setup\n",
    "\n",
    "We need `scikit-learn` to generate data and for the K-Means model, and `matplotlib` to visualize the results."
   ]
  },
  {
   "cell_type": "code",
   "execution_count": null,
   "id": "3d4eca37",
   "metadata": {},
   "outputs": [],
   "source": [
    "import matplotlib.pyplot as plt\n",
    "from sklearn.datasets import make_blobs\n",
    "from sklearn.cluster import KMeans"
   ]
  },
  {
   "cell_type": "markdown",
   "id": "ad5e4090",
   "metadata": {},
   "source": [
    "## 2. Generate Synthetic Data\n",
    "\n",
    "For clustering, it's often easiest to learn with synthetic data because we know the \"ground truth.\" We can generate data with a specific number of clusters and then see if the K-Means algorithm can find them.\n",
    "\n",
    "We will generate 300 data points grouped into 4 distinct clusters."
   ]
  },
  {
   "cell_type": "code",
   "execution_count": null,
   "id": "8e745e98",
   "metadata": {},
   "outputs": [],
   "source": [
    "# Generate the data\n",
    "# X contains the coordinates, y_true contains the true cluster labels (which we'll ignore for training)\n",
    "X, y_true = make_blobs(n_samples=300, centers=4, cluster_std=0.70, random_state=0)\n",
    "\n",
    "# Plot the generated data\n",
    "plt.figure(figsize=(8, 6))\n",
    "plt.scatter(X[:, 0], X[:, 1], s=50)\n",
    "plt.title(\"Generated Data (True Labels Hidden)\")\n",
    "plt.xlabel(\"Feature 1\")\n",
    "plt.ylabel(\"Feature 2\")\n",
    "plt.show()"
   ]
  },
  {
   "cell_type": "markdown",
   "id": "1033140d",
   "metadata": {},
   "source": [
    "**The Challenge:** The plot above is what the unsupervised algorithm sees. It has no colors or labels. Its job is to figure out the underlying groups on its own.\n",
    "\n",
    "---\n",
    "\n",
    "## 3. Build and Train the K-Means Model\n",
    "\n",
    "We will initialize the `KMeans` model, telling it that we expect to find 4 clusters (`n_clusters=4`). Then, we'll fit it to our data `X`."
   ]
  },
  {
   "cell_type": "code",
   "execution_count": null,
   "id": "7bc62df0",
   "metadata": {},
   "outputs": [],
   "source": [
    "# Initialize the K-Means model\n",
    "kmeans = KMeans(n_clusters=4, random_state=0, n_init=10) # n_init='auto' is the default in newer versions\n",
    "\n",
    "# Train the model (fit it to the data)\n",
    "print(\"Fitting the K-Means model...\")\n",
    "kmeans.fit(X)\n",
    "print(\"Model fitting complete.\")"
   ]
  },
  {
   "cell_type": "markdown",
   "id": "0dc044ab",
   "metadata": {},
   "source": [
    "## 4. Analyze the Results\n",
    "\n",
    "The trained model has now assigned a cluster label to each data point and has calculated the center of each cluster.\n",
    "\n",
    "### Get the Predictions and Cluster Centers"
   ]
  },
  {
   "cell_type": "code",
   "execution_count": null,
   "id": "c56aac6f",
   "metadata": {},
   "outputs": [],
   "source": [
    "# Get the cluster assignments for each data point\n",
    "y_kmeans = kmeans.predict(X)\n",
    "\n",
    "# Get the coordinates of the cluster centers\n",
    "centers = kmeans.cluster_centers_"
   ]
  },
  {
   "cell_type": "markdown",
   "id": "ca38fbf8",
   "metadata": {},
   "source": [
    "### Visualize the Discovered Clusters\n",
    "Now, let's plot the data again, but this time we'll color the points based on the cluster labels found by the K-Means algorithm. We'll also plot the cluster centers."
   ]
  },
  {
   "cell_type": "code",
   "execution_count": null,
   "id": "751407b7",
   "metadata": {},
   "outputs": [],
   "source": [
    "plt.figure(figsize=(10, 8))\n",
    "# Plot the data points, colored by their assigned cluster\n",
    "plt.scatter(X[:, 0], X[:, 1], c=y_kmeans, s=50, cmap='viridis')\n",
    "\n",
    "# Plot the cluster centers as large red circles\n",
    "plt.scatter(centers[:, 0], centers[:, 1], c='red', s=200, alpha=0.75, marker='X', label='Cluster Centers')\n",
    "\n",
    "plt.title(\"Clusters Discovered by K-Means\")\n",
    "plt.xlabel(\"Feature 1\")\n",
    "plt.ylabel(\"Feature 2\")\n",
    "plt.legend()\n",
    "plt.show()"
   ]
  },
  {
   "cell_type": "markdown",
   "id": "65ca46a8",
   "metadata": {},
   "source": [
    "**Analysis:** As you can see, the K-Means algorithm did an excellent job of identifying the four original clusters we created. It successfully partitioned the data into meaningful groups without being given any labels beforehand.\n",
    "\n",
    "---\n",
    "\n",
    "## Conclusion\n",
    "\n",
    "In this lab, you have performed your first unsupervised learning task. You learned:\n",
    "1.  The goal of clustering is to find inherent groups in unlabeled data.\n",
    "2.  How to use `make_blobs` to create synthetic data for testing clustering algorithms.\n",
    "3.  How to train a `KMeans` model to partition the data.\n",
    "4.  How to visualize the results to verify that the algorithm has found the underlying structure."
   ]
  }
 ],
 "metadata": {
  "jupytext": {
   "cell_metadata_filter": "-all",
   "main_language": "python",
   "notebook_metadata_filter": "-all"
  }
 },
 "nbformat": 4,
 "nbformat_minor": 5
}
