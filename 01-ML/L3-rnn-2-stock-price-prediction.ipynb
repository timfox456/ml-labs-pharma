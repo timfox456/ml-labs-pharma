{
 "cells": [
  {
   "cell_type": "markdown",
   "metadata": {
    "colab_type": "text",
    "id": "1oGuiYRS9wGa"
   },
   "source": [
    "# Lab: Predicting google stock market using RNN\n",
    "\n",
    "**Recurrent Neural Networks** are the first of its kind State of the Art algorithms that can remember previous inputs in memory, when a huge set of sequential data is given to it.  RNN works on the principle of saving the output of a layer and feeding this back to the input in order to predict the output of the layer.  \n",
    "\n",
    "Good prediction systems for the stock market, in this case predicting google stock, would help traders, investors, and analysts by providing information of the future direction of the stock market.    \n",
    "\n",
    "Here we will be using an RNN to predict google stock.\n",
    "\n",
    "**WARNING: For training purpose only, not investment advice :-)**"
   ]
  },
  {
   "cell_type": "code",
   "execution_count": 1,
   "metadata": {
    "colab": {
     "base_uri": "https://localhost:8080/",
     "height": 34
    },
    "colab_type": "code",
    "id": "nydvykyFyAiF",
    "outputId": "7b6d4203-60fc-4134-c4f5-34e76f4b01b7"
   },
   "outputs": [
    {
     "name": "stdout",
     "output_type": "stream",
     "text": [
      "Running in Google COLAB :  False\n"
     ]
    }
   ],
   "source": [
    "## Determine if we are running on google colab ///// Done\n",
    "\n",
    "try:\n",
    "    import google.colab\n",
    "    RUNNING_IN_COLAB = True\n",
    "except:\n",
    "    RUNNING_IN_COLAB = False\n",
    "\n",
    "print (\"Running in Google COLAB : \", RUNNING_IN_COLAB)"
   ]
  },
  {
   "cell_type": "markdown",
   "metadata": {
    "colab_type": "text",
    "id": "s8pJuuL483lg"
   },
   "source": [
    "**TensorFlow** is a free and open-source software library for dataflow and differentiable programming across a range of tasks.  \n",
    "It is a symbolic math library, and is also used for machine learning applications such as neural networks.  "
   ]
  },
  {
   "cell_type": "code",
   "execution_count": 2,
   "metadata": {
    "colab": {
     "base_uri": "https://localhost:8080/",
     "height": 52
    },
    "colab_type": "code",
    "id": "UAwy6Gft3vPD",
    "outputId": "5da0e37f-0ab6-423d-b7b3-99e9163fde15"
   },
   "outputs": [
    {
     "name": "stdout",
     "output_type": "stream",
     "text": [
      "tf version:  2.3.0\n",
      "keras version:  2.4.0\n"
     ]
    }
   ],
   "source": [
    "from __future__ import absolute_import, division, print_function, unicode_literals\n",
    "\n",
    "try:\n",
    "  # %tensorflow_version only exists in Colab.\n",
    "  %tensorflow_version 2.x\n",
    "except Exception:\n",
    "  pass\n",
    "\n",
    "import tensorflow as tf\n",
    "from tensorflow import keras\n",
    "print (\"tf version: \", tf.__version__)\n",
    "print (\"keras version: \", keras.__version__)"
   ]
  },
  {
   "cell_type": "markdown",
   "metadata": {
    "colab_type": "text",
    "id": "m6sLPjRC3vPG"
   },
   "source": [
    "## TF-GPU Debug\n",
    "The following block tests if TF is running on GPU."
   ]
  },
  {
   "cell_type": "code",
   "execution_count": 3,
   "metadata": {
    "colab": {
     "base_uri": "https://localhost:8080/",
     "height": 104
    },
    "colab_type": "code",
    "id": "0hg6UWFl3vPG",
    "outputId": "30a14a87-6833-4f9b-bd41-006e273f421a"
   },
   "outputs": [
    {
     "name": "stdout",
     "output_type": "stream",
     "text": [
      "[PhysicalDevice(name='/physical_device:CPU:0', device_type='CPU'), PhysicalDevice(name='/physical_device:XLA_CPU:0', device_type='XLA_CPU'), PhysicalDevice(name='/physical_device:XLA_GPU:0', device_type='XLA_GPU'), PhysicalDevice(name='/physical_device:GPU:0', device_type='GPU')]\n",
      "Device mapping:\n",
      "/job:localhost/replica:0/task:0/device:XLA_CPU:0 -> device: XLA_CPU device\n",
      "/job:localhost/replica:0/task:0/device:XLA_GPU:0 -> device: XLA_GPU device\n",
      "/job:localhost/replica:0/task:0/device:GPU:0 -> device: 0, name: GeForce RTX 2070, pci bus id: 0000:01:00.0, compute capability: 7.5\n",
      "\n"
     ]
    }
   ],
   "source": [
    "print (tf.config.experimental.list_physical_devices())\n",
    "\n",
    "## This block is to tweak TF running on GPU\n",
    "## You may comment this out, if you are not using GPU\n",
    "\n",
    "## ---- start Memory setting ----\n",
    "## Ask TF not to allocate all GPU memory at once.. allocate as needed\n",
    "## Without this the execution will fail with \"failed to initialize algorithm\" error\n",
    "\n",
    "from tensorflow.compat.v1.keras.backend import set_session\n",
    "config = tf.compat.v1.ConfigProto()\n",
    "config.gpu_options.allow_growth = True  # dynamically grow the memory used on the GPU\n",
    "config.log_device_placement = True  # to log device placement (on which device the operation ran)\n",
    "sess = tf.compat.v1.Session(config=config)\n",
    "set_session(sess)\n",
    "## ---- end Memory setting ----\n"
   ]
  },
  {
   "cell_type": "markdown",
   "metadata": {
    "colab_type": "text",
    "id": "lTkLKQws-6Pi"
   },
   "source": [
    "## Step 1: Load data\n",
    "**Google stock market** dataset is a common educational csv dataset containing like 1,278 rows.  \n",
    "This is historical stock data collected from the google stock price.  "
   ]
  },
  {
   "cell_type": "code",
   "execution_count": 4,
   "metadata": {
    "colab": {},
    "colab_type": "code",
    "id": "uyN9jwuY4SXk"
   },
   "outputs": [
    {
     "name": "stdout",
     "output_type": "stream",
     "text": [
      "data_train_local:  /home/sujee/.keras/datasets/google-stock-price-train.csv\n",
      "data_test_local:  /home/sujee/.keras/datasets/google-stock-price-test.csv\n"
     ]
    }
   ],
   "source": [
    "import pandas as pd\n",
    "import os\n",
    "\n",
    "data_train = 'https://elephantscale-public.s3.amazonaws.com/data/stocks/google-stock-price-train.csv'\n",
    "data_test = 'https://elephantscale-public.s3.amazonaws.com/data/stocks/google-stock-price-test.csv'\n",
    "\n",
    "data_train_local = keras.utils.get_file(fname=os.path.basename(data_train),\n",
    "                                           origin=data_train, extract=True)\n",
    "print ('data_train_local: ', data_train_local)\n",
    "\n",
    "data_test_local = keras.utils.get_file(fname=os.path.basename(data_test),\n",
    "                                           origin=data_test, extract=True)\n",
    "print ('data_test_local: ', data_test_local)"
   ]
  },
  {
   "cell_type": "markdown",
   "metadata": {
    "colab_type": "text",
    "id": "KNwG8IhSEgaH"
   },
   "source": [
    "## Step 2: Explore data\n",
    "We will be given stock google stock price data with **Date**, **Open** price, **High** Price, **Low** Price, **Close** price, and **Volume** of shares that changed hands.   "
   ]
  },
  {
   "cell_type": "code",
   "execution_count": 5,
   "metadata": {
    "colab": {
     "base_uri": "https://localhost:8080/",
     "height": 235
    },
    "colab_type": "code",
    "id": "lXNXT4r35wiG",
    "outputId": "835050f9-9aa0-4cbe-e027-6e2a672e93b1"
   },
   "outputs": [
    {
     "data": {
      "text/html": [
       "<div>\n",
       "<style scoped>\n",
       "    .dataframe tbody tr th:only-of-type {\n",
       "        vertical-align: middle;\n",
       "    }\n",
       "\n",
       "    .dataframe tbody tr th {\n",
       "        vertical-align: top;\n",
       "    }\n",
       "\n",
       "    .dataframe thead th {\n",
       "        text-align: right;\n",
       "    }\n",
       "</style>\n",
       "<table border=\"1\" class=\"dataframe\">\n",
       "  <thead>\n",
       "    <tr style=\"text-align: right;\">\n",
       "      <th></th>\n",
       "      <th>Open</th>\n",
       "      <th>High</th>\n",
       "      <th>Low</th>\n",
       "      <th>Close</th>\n",
       "      <th>Volume</th>\n",
       "    </tr>\n",
       "    <tr>\n",
       "      <th>Date</th>\n",
       "      <th></th>\n",
       "      <th></th>\n",
       "      <th></th>\n",
       "      <th></th>\n",
       "      <th></th>\n",
       "    </tr>\n",
       "  </thead>\n",
       "  <tbody>\n",
       "    <tr>\n",
       "      <th>2012-01-03</th>\n",
       "      <td>325.25</td>\n",
       "      <td>332.83</td>\n",
       "      <td>324.97</td>\n",
       "      <td>663.59</td>\n",
       "      <td>7380500</td>\n",
       "    </tr>\n",
       "    <tr>\n",
       "      <th>2012-01-04</th>\n",
       "      <td>331.27</td>\n",
       "      <td>333.87</td>\n",
       "      <td>329.08</td>\n",
       "      <td>666.45</td>\n",
       "      <td>5749400</td>\n",
       "    </tr>\n",
       "    <tr>\n",
       "      <th>2012-01-05</th>\n",
       "      <td>329.83</td>\n",
       "      <td>330.75</td>\n",
       "      <td>326.89</td>\n",
       "      <td>657.21</td>\n",
       "      <td>6590300</td>\n",
       "    </tr>\n",
       "    <tr>\n",
       "      <th>2012-01-06</th>\n",
       "      <td>328.34</td>\n",
       "      <td>328.77</td>\n",
       "      <td>323.68</td>\n",
       "      <td>648.24</td>\n",
       "      <td>5405900</td>\n",
       "    </tr>\n",
       "    <tr>\n",
       "      <th>2012-01-09</th>\n",
       "      <td>322.04</td>\n",
       "      <td>322.29</td>\n",
       "      <td>309.46</td>\n",
       "      <td>620.76</td>\n",
       "      <td>11688800</td>\n",
       "    </tr>\n",
       "    <tr>\n",
       "      <th>...</th>\n",
       "      <td>...</td>\n",
       "      <td>...</td>\n",
       "      <td>...</td>\n",
       "      <td>...</td>\n",
       "      <td>...</td>\n",
       "    </tr>\n",
       "    <tr>\n",
       "      <th>2016-12-23</th>\n",
       "      <td>790.90</td>\n",
       "      <td>792.74</td>\n",
       "      <td>787.28</td>\n",
       "      <td>789.91</td>\n",
       "      <td>623400</td>\n",
       "    </tr>\n",
       "    <tr>\n",
       "      <th>2016-12-27</th>\n",
       "      <td>790.68</td>\n",
       "      <td>797.86</td>\n",
       "      <td>787.66</td>\n",
       "      <td>791.55</td>\n",
       "      <td>789100</td>\n",
       "    </tr>\n",
       "    <tr>\n",
       "      <th>2016-12-28</th>\n",
       "      <td>793.70</td>\n",
       "      <td>794.23</td>\n",
       "      <td>783.20</td>\n",
       "      <td>785.05</td>\n",
       "      <td>1153800</td>\n",
       "    </tr>\n",
       "    <tr>\n",
       "      <th>2016-12-29</th>\n",
       "      <td>783.33</td>\n",
       "      <td>785.93</td>\n",
       "      <td>778.92</td>\n",
       "      <td>782.79</td>\n",
       "      <td>744300</td>\n",
       "    </tr>\n",
       "    <tr>\n",
       "      <th>2016-12-30</th>\n",
       "      <td>782.75</td>\n",
       "      <td>782.78</td>\n",
       "      <td>770.41</td>\n",
       "      <td>771.82</td>\n",
       "      <td>1770000</td>\n",
       "    </tr>\n",
       "  </tbody>\n",
       "</table>\n",
       "<p>1258 rows × 5 columns</p>\n",
       "</div>"
      ],
      "text/plain": [
       "              Open    High     Low   Close    Volume\n",
       "Date                                                \n",
       "2012-01-03  325.25  332.83  324.97  663.59   7380500\n",
       "2012-01-04  331.27  333.87  329.08  666.45   5749400\n",
       "2012-01-05  329.83  330.75  326.89  657.21   6590300\n",
       "2012-01-06  328.34  328.77  323.68  648.24   5405900\n",
       "2012-01-09  322.04  322.29  309.46  620.76  11688800\n",
       "...            ...     ...     ...     ...       ...\n",
       "2016-12-23  790.90  792.74  787.28  789.91    623400\n",
       "2016-12-27  790.68  797.86  787.66  791.55    789100\n",
       "2016-12-28  793.70  794.23  783.20  785.05   1153800\n",
       "2016-12-29  783.33  785.93  778.92  782.79    744300\n",
       "2016-12-30  782.75  782.78  770.41  771.82   1770000\n",
       "\n",
       "[1258 rows x 5 columns]"
      ]
     },
     "execution_count": 5,
     "metadata": {},
     "output_type": "execute_result"
    }
   ],
   "source": [
    "dataset_train = pd.read_csv(data_train_local,index_col=\"Date\",parse_dates=True, thousands=',')\n",
    "dataset_train"
   ]
  },
  {
   "cell_type": "markdown",
   "metadata": {
    "colab_type": "text",
    "id": "kzg0eI5unCzA"
   },
   "source": [
    "### Rolling Mean on Time series\n",
    "A rolling analysis of a time series model is often used to assess the model’s stability over time. When analyzing financial time series data using a statistical model, a key assumption is that the parameters of the model are constant over time"
   ]
  },
  {
   "cell_type": "code",
   "execution_count": 6,
   "metadata": {
    "colab": {
     "base_uri": "https://localhost:8080/",
     "height": 392
    },
    "colab_type": "code",
    "id": "y4LYWueUmn1O",
    "outputId": "23470da1-af92-40ae-9c4d-8a677141523d"
   },
   "outputs": [
    {
     "data": {
      "text/plain": [
       "<AxesSubplot:xlabel='Date'>"
      ]
     },
     "execution_count": 6,
     "metadata": {},
     "output_type": "execute_result"
    },
    {
     "data": {
      "image/png": "[encoded data removed]",
      "text/plain": [
       "<Figure size 1152x432 with 1 Axes>"
      ]
     },
     "metadata": {
      "needs_background": "light"
     },
     "output_type": "display_data"
    }
   ],
   "source": [
    "dataset_train['Close: 30 Day Mean'] = dataset_train['Close'].rolling(window=30).mean()\n",
    "dataset_train[['Close','Close: 30 Day Mean']].plot(figsize=(16,6))"
   ]
  },
  {
   "cell_type": "markdown",
   "metadata": {
    "colab_type": "text",
    "id": "sXrso_-8nq4A"
   },
   "source": [
    "## Stocks opening representation over the period of time"
   ]
  },
  {
   "cell_type": "code",
   "execution_count": 7,
   "metadata": {
    "colab": {
     "base_uri": "https://localhost:8080/",
     "height": 392
    },
    "colab_type": "code",
    "id": "xlxd8O3kmusU",
    "outputId": "e3435b5d-95e7-40ed-d898-2dde95ccd8d1"
   },
   "outputs": [
    {
     "data": {
      "text/plain": [
       "<AxesSubplot:xlabel='Date'>"
      ]
     },
     "execution_count": 7,
     "metadata": {},
     "output_type": "execute_result"
    },
    {
     "data": {
      "image/png": "[encoded data removed]",
      "text/plain": [
       "<Figure size 1152x432 with 1 Axes>"
      ]
     },
     "metadata": {
      "needs_background": "light"
     },
     "output_type": "display_data"
    }
   ],
   "source": [
    "dataset_train['Open'].plot(figsize=(16,6))"
   ]
  },
  {
   "cell_type": "markdown",
   "metadata": {
    "colab_type": "text",
    "id": "FgWL8Tcm59M5"
   },
   "source": [
    "## Step 3: Preprocessing\n",
    "\n",
    "Here are the steps for our preprocessing \n",
    " - **Data discretization:** Part of data reduction but with particular importance, especially for numerical data.  \n",
    " - **Data transformation:** Normalization.  \n",
    " - **Data Cleaning:** Fill in missing values.  \n",
    " - **Data integration:** Integration of data files. After the dataset is transformed into a clean dataset, the dataset is divided into training and testing sets so as to evaluate.\n"
   ]
  },
  {
   "cell_type": "code",
   "execution_count": 8,
   "metadata": {
    "colab": {},
    "colab_type": "code",
    "id": "jxVTAmmErm8F"
   },
   "outputs": [
    {
     "data": {
      "text/plain": [
       "array([[0.08581368, 0.09640129, 0.09044931, 0.23757287, 0.29525831,\n",
       "               nan],\n",
       "       [0.09701243, 0.09834351, 0.09823458, 0.24151427, 0.22993592,\n",
       "               nan],\n",
       "       [0.09433366, 0.09251685, 0.09408623, 0.22878051, 0.26361233,\n",
       "               nan],\n",
       "       ...,\n",
       "       [0.95725128, 0.95807422, 0.95844067, 0.40495845, 0.04589107,\n",
       "        0.38306889],\n",
       "       [0.93796041, 0.94257381, 0.95033338, 0.40184391, 0.02949139,\n",
       "        0.38425019],\n",
       "       [0.93688146, 0.93669113, 0.93421352, 0.38672602, 0.07056868,\n",
       "        0.38460701]])"
      ]
     },
     "execution_count": 8,
     "metadata": {},
     "output_type": "execute_result"
    }
   ],
   "source": [
    "#Data cleaning\n",
    "\n",
    "from sklearn.preprocessing import MinMaxScaler\n",
    "\n",
    "dataset_train.isna().any()# Feature Scaling Normalization\n",
    "#Transform features by scaling each feature between 0 - 1\n",
    "sc = MinMaxScaler(feature_range = (0, 1)) \n",
    "\n",
    "training_set_scaled = sc.fit_transform(dataset_train)  #Feature extractor then takes data and returns some transformed data back\n",
    "\n",
    "training_set_scaled"
   ]
  },
  {
   "cell_type": "markdown",
   "metadata": {
    "colab_type": "text",
    "id": "mZExOvXdD5VQ"
   },
   "source": [
    "## Step 4: Shape data\n",
    "Shaping the data so we can have it suitable to work with.  "
   ]
  },
  {
   "cell_type": "code",
   "execution_count": 9,
   "metadata": {
    "colab": {},
    "colab_type": "code",
    "id": "KDWazIYy6ObP"
   },
   "outputs": [],
   "source": [
    "import numpy as np\n",
    "\n",
    "## Data structure with 60 timesteps and 1 output\n",
    "time_steps = 60\n",
    "\n",
    "x_train = []\n",
    "y_train = []\n",
    "for i in range(time_steps, len(dataset_train)):\n",
    "    x_train.append(training_set_scaled[i-time_steps:i, 0]) \n",
    "    y_train.append(training_set_scaled[i, 0])\n",
    "x_train, y_train = np.array(x_train), np.array(y_train)\n",
    "\n",
    "# Reshaping\n",
    "x_train = np.reshape(x_train, (x_train.shape[0], x_train.shape[1], 1))"
   ]
  },
  {
   "cell_type": "code",
   "execution_count": 10,
   "metadata": {
    "colab": {
     "base_uri": "https://localhost:8080/",
     "height": 1000
    },
    "colab_type": "code",
    "id": "du8OMexq8GlR",
    "outputId": "3f9cfce2-110c-4183-9db5-09fdd3fadea5"
   },
   "outputs": [
    {
     "name": "stdout",
     "output_type": "stream",
     "text": [
      "Independent feature values are: \n",
      "[[0.08581368]\n",
      " [0.09701243]\n",
      " [0.09433366]\n",
      " [0.09156187]\n",
      " [0.07984225]\n",
      " [0.0643277 ]\n",
      " [0.0585423 ]\n",
      " [0.06568569]\n",
      " [0.06109085]\n",
      " [0.06639259]\n",
      " [0.0614257 ]\n",
      " [0.07474514]\n",
      " [0.02797827]\n",
      " [0.02379269]\n",
      " [0.02409033]\n",
      " [0.0159238 ]\n",
      " [0.01078949]\n",
      " [0.00967334]\n",
      " [0.01642607]\n",
      " [0.02100231]\n",
      " [0.02280676]\n",
      " [0.02273235]\n",
      " [0.02810849]\n",
      " [0.03212665]\n",
      " [0.0433812 ]\n",
      " [0.04475779]\n",
      " [0.04790163]\n",
      " [0.0440695 ]\n",
      " [0.04648783]\n",
      " [0.04745517]\n",
      " [0.04873875]\n",
      " [0.03936305]\n",
      " [0.04137213]\n",
      " [0.04034898]\n",
      " [0.04784582]\n",
      " [0.04325099]\n",
      " [0.04356723]\n",
      " [0.04286033]\n",
      " [0.04602277]\n",
      " [0.05398467]\n",
      " [0.05738894]\n",
      " [0.05714711]\n",
      " [0.05569611]\n",
      " [0.04421832]\n",
      " [0.04514845]\n",
      " [0.04605997]\n",
      " [0.04412531]\n",
      " [0.03675869]\n",
      " [0.04486941]\n",
      " [0.05065481]\n",
      " [0.05214302]\n",
      " [0.05612397]\n",
      " [0.05818885]\n",
      " [0.06540665]\n",
      " [0.06882953]\n",
      " [0.07243843]\n",
      " [0.07993526]\n",
      " [0.07846566]\n",
      " [0.08034452]\n",
      " [0.08497656]]Dependent feature value is : 0.08627874097775134\n",
      "------\n",
      "Independent feature values are: \n",
      "[[0.09701243]\n",
      " [0.09433366]\n",
      " [0.09156187]\n",
      " [0.07984225]\n",
      " [0.0643277 ]\n",
      " [0.0585423 ]\n",
      " [0.06568569]\n",
      " [0.06109085]\n",
      " [0.06639259]\n",
      " [0.0614257 ]\n",
      " [0.07474514]\n",
      " [0.02797827]\n",
      " [0.02379269]\n",
      " [0.02409033]\n",
      " [0.0159238 ]\n",
      " [0.01078949]\n",
      " [0.00967334]\n",
      " [0.01642607]\n",
      " [0.02100231]\n",
      " [0.02280676]\n",
      " [0.02273235]\n",
      " [0.02810849]\n",
      " [0.03212665]\n",
      " [0.0433812 ]\n",
      " [0.04475779]\n",
      " [0.04790163]\n",
      " [0.0440695 ]\n",
      " [0.04648783]\n",
      " [0.04745517]\n",
      " [0.04873875]\n",
      " [0.03936305]\n",
      " [0.04137213]\n",
      " [0.04034898]\n",
      " [0.04784582]\n",
      " [0.04325099]\n",
      " [0.04356723]\n",
      " [0.04286033]\n",
      " [0.04602277]\n",
      " [0.05398467]\n",
      " [0.05738894]\n",
      " [0.05714711]\n",
      " [0.05569611]\n",
      " [0.04421832]\n",
      " [0.04514845]\n",
      " [0.04605997]\n",
      " [0.04412531]\n",
      " [0.03675869]\n",
      " [0.04486941]\n",
      " [0.05065481]\n",
      " [0.05214302]\n",
      " [0.05612397]\n",
      " [0.05818885]\n",
      " [0.06540665]\n",
      " [0.06882953]\n",
      " [0.07243843]\n",
      " [0.07993526]\n",
      " [0.07846566]\n",
      " [0.08034452]\n",
      " [0.08497656]\n",
      " [0.08627874]]Dependent feature value is : 0.08471612471166012\n",
      "------\n",
      "Independent feature values are: \n",
      "[[0.09433366]\n",
      " [0.09156187]\n",
      " [0.07984225]\n",
      " [0.0643277 ]\n",
      " [0.0585423 ]\n",
      " [0.06568569]\n",
      " [0.06109085]\n",
      " [0.06639259]\n",
      " [0.0614257 ]\n",
      " [0.07474514]\n",
      " [0.02797827]\n",
      " [0.02379269]\n",
      " [0.02409033]\n",
      " [0.0159238 ]\n",
      " [0.01078949]\n",
      " [0.00967334]\n",
      " [0.01642607]\n",
      " [0.02100231]\n",
      " [0.02280676]\n",
      " [0.02273235]\n",
      " [0.02810849]\n",
      " [0.03212665]\n",
      " [0.0433812 ]\n",
      " [0.04475779]\n",
      " [0.04790163]\n",
      " [0.0440695 ]\n",
      " [0.04648783]\n",
      " [0.04745517]\n",
      " [0.04873875]\n",
      " [0.03936305]\n",
      " [0.04137213]\n",
      " [0.04034898]\n",
      " [0.04784582]\n",
      " [0.04325099]\n",
      " [0.04356723]\n",
      " [0.04286033]\n",
      " [0.04602277]\n",
      " [0.05398467]\n",
      " [0.05738894]\n",
      " [0.05714711]\n",
      " [0.05569611]\n",
      " [0.04421832]\n",
      " [0.04514845]\n",
      " [0.04605997]\n",
      " [0.04412531]\n",
      " [0.03675869]\n",
      " [0.04486941]\n",
      " [0.05065481]\n",
      " [0.05214302]\n",
      " [0.05612397]\n",
      " [0.05818885]\n",
      " [0.06540665]\n",
      " [0.06882953]\n",
      " [0.07243843]\n",
      " [0.07993526]\n",
      " [0.07846566]\n",
      " [0.08034452]\n",
      " [0.08497656]\n",
      " [0.08627874]\n",
      " [0.08471612]]Dependent feature value is : 0.07454051640747084\n",
      "------\n"
     ]
    }
   ],
   "source": [
    "for i in range(3):\n",
    "  print(\"Independent feature values are: \")\n",
    "  print( x_train[i], end='')\n",
    "  print(\"Dependent feature value is :\" , y_train[i])\n",
    "  print ('------')"
   ]
  },
  {
   "cell_type": "markdown",
   "metadata": {
    "colab_type": "text",
    "id": "aRkSp92hGanJ"
   },
   "source": [
    "## Step 5: Build model\n",
    "Build a model or set of models to solve the problem, test how well they perform and iterate until you have a model that gives satisfactory results.  "
   ]
  },
  {
   "cell_type": "code",
   "execution_count": 11,
   "metadata": {
    "colab": {
     "base_uri": "https://localhost:8080/",
     "height": 660
    },
    "colab_type": "code",
    "id": "Fcqg0dYWUx7K",
    "outputId": "931f4512-3a42-4526-8d57-e64764af5a06"
   },
   "outputs": [
    {
     "name": "stdout",
     "output_type": "stream",
     "text": [
      "Model: \"sequential\"\n",
      "_________________________________________________________________\n",
      "Layer (type)                 Output Shape              Param #   \n",
      "=================================================================\n",
      "simple_rnn (SimpleRNN)       (None, 60, 64)            4224      \n",
      "_________________________________________________________________\n",
      "simple_rnn_1 (SimpleRNN)     (None, 64)                8256      \n",
      "_________________________________________________________________\n",
      "dense (Dense)                (None, 1)                 65        \n",
      "=================================================================\n",
      "Total params: 12,545\n",
      "Trainable params: 12,545\n",
      "Non-trainable params: 0\n",
      "_________________________________________________________________\n"
     ]
    },
    {
     "data": {
      "image/png": "[encoded data removed]",
      "text/plain": [
       "<IPython.core.display.Image object>"
      ]
     },
     "execution_count": 11,
     "metadata": {},
     "output_type": "execute_result"
    }
   ],
   "source": [
    "# Initialising the RNN\n",
    "model = tf.keras.Sequential()\n",
    "\n",
    "# Adding the first RNN Layer\n",
    "#The model needs to know what input shape it should expect. \n",
    "#For this reason, the first layer in a Sequential model needs to receive information about its input shape.\n",
    "#Only the first, because following layers can do automatic shape inference. \n",
    "\n",
    "# if we are feeding to another RNN layer, we need to have `return_sequences=True`\n",
    "model.add(tf.keras.layers.SimpleRNN(units = 64, return_sequences = True, \n",
    "                                    input_shape = (x_train.shape[1], 1)))\n",
    "\n",
    "# Adding a 2nd RNN layefr\n",
    "model.add(tf.keras.layers.SimpleRNN(units = 64))\n",
    "\n",
    "# Adding the output layer\n",
    "# only need 1 neuron for regression\n",
    "model.add(tf.keras.layers.Dense(units = 1))\n",
    "\n",
    "# Compiling the model\n",
    "model.compile(optimizer = 'adam', loss = 'mse', metrics=['mse'])\n",
    "\n",
    "model.summary()\n",
    "# Plotting the model\n",
    "tf.keras.utils.plot_model(model, to_file='model.png', show_shapes=True)"
   ]
  },
  {
   "cell_type": "markdown",
   "metadata": {
    "colab_type": "text",
    "id": "zzCosbwWD8uU"
   },
   "source": [
    "## Step 6 : Add Tensorboard\n",
    "\n",
    "**TensorBoard** provides the visualization and tooling needed for machine learning experimentation.  "
   ]
  },
  {
   "cell_type": "code",
   "execution_count": 12,
   "metadata": {
    "colab": {
     "base_uri": "https://localhost:8080/",
     "height": 34
    },
    "colab_type": "code",
    "id": "4maKE9sXDWA0",
    "outputId": "a7c32eb4-5400-49d2-f2fc-186904f921e2"
   },
   "outputs": [
    {
     "name": "stdout",
     "output_type": "stream",
     "text": [
      "Saving TB logs to :  /tmp/tensorboard-logs/rnn-stocks/18-54-56\n"
     ]
    },
    {
     "data": {
      "text/html": [
       "\n",
       "      <iframe id=\"tensorboard-frame-60aa6dd6d2d805b6\" width=\"100%\" height=\"800\" frameborder=\"0\">\n",
       "      </iframe>\n",
       "      <script>\n",
       "        (function() {\n",
       "          const frame = document.getElementById(\"tensorboard-frame-60aa6dd6d2d805b6\");\n",
       "          const url = new URL(\"/\", window.location);\n",
       "          const port = 6007;\n",
       "          if (port) {\n",
       "            url.port = port;\n",
       "          }\n",
       "          frame.src = url;\n",
       "        })();\n",
       "      </script>\n",
       "    "
      ],
      "text/plain": [
       "<IPython.core.display.HTML object>"
      ]
     },
     "metadata": {},
     "output_type": "display_data"
    }
   ],
   "source": [
    "## This is fairly boiler plate code\n",
    "\n",
    "import datetime\n",
    "import os\n",
    "import shutil\n",
    "\n",
    "app_name = 'rnn-stocks'\n",
    "\n",
    "# timestamp  = datetime.datetime.now().strftime(\"%Y-%m-%d--%H-%M-%S\")\n",
    "\n",
    "tb_top_level_dir= '/tmp/tensorboard-logs'\n",
    "\n",
    "tb_app_dir = os.path.join (tb_top_level_dir, app_name)\n",
    "\n",
    "tb_logs_dir = os.path.join (tb_app_dir, datetime.datetime.now().strftime(\"%H-%M-%S\"))\n",
    "\n",
    "\n",
    "print (\"Saving TB logs to : \" , tb_logs_dir)\n",
    "\n",
    "#clear out old logs\n",
    "shutil.rmtree ( tb_app_dir, ignore_errors=True )\n",
    "\n",
    "tensorboard_callback = tf.keras.callbacks.TensorBoard(log_dir=tb_logs_dir, write_graph=True, \n",
    "                                                      write_images=True, histogram_freq=1)\n",
    "\n",
    "## This will embed Tensorboard right here in jupyter!\n",
    "%load_ext tensorboard\n",
    "%tensorboard --logdir $tb_logs_dir"
   ]
  },
  {
   "cell_type": "markdown",
   "metadata": {
    "colab_type": "text",
    "id": "HoQeQeEj71Nu"
   },
   "source": [
    "## Step 7: Train \n",
    "\n",
    " - Optimizer **Adam**, which is an adaptive learning rate optimization algorithm that's been designed specifically for training deep neural networks.  \n",
    " - **Mean Squared Error Loss**, it is the preferred loss function under the inference framework of maximum likelihood if the distribution of the target variable is Gaussian. It is the loss function to be evaluated first and only changed if you have a good reason.  "
   ]
  },
  {
   "cell_type": "code",
   "execution_count": 13,
   "metadata": {
    "colab": {
     "base_uri": "https://localhost:8080/",
     "height": 442
    },
    "colab_type": "code",
    "id": "uQieeHvptnEb",
    "outputId": "527a019e-38c5-45ad-e274-50312cc46514"
   },
   "outputs": [
    {
     "name": "stdout",
     "output_type": "stream",
     "text": [
      "training starting ...\n",
      "Epoch 1/10\n",
      " 1/38 [..............................] - ETA: 0s - loss: 0.1366 - mse: 0.1366WARNING:tensorflow:From /home/sujee/anaconda3/envs/tf-2.3/lib/python3.8/site-packages/tensorflow/python/ops/summary_ops_v2.py:1277: stop (from tensorflow.python.eager.profiler) is deprecated and will be removed after 2020-07-01.\n",
      "Instructions for updating:\n",
      "use `tf.profiler.experimental.stop` instead.\n",
      " 2/38 [>.............................] - ETA: 4s - loss: 0.2835 - mse: 0.2835WARNING:tensorflow:Callbacks method `on_train_batch_end` is slow compared to the batch time (batch time: 0.0552s vs `on_train_batch_end` time: 0.2080s). Check your callbacks.\n",
      "38/38 [==============================] - 1s 37ms/step - loss: 0.0338 - mse: 0.0338\n",
      "Epoch 2/10\n",
      "38/38 [==============================] - 1s 31ms/step - loss: 0.0020 - mse: 0.0020\n",
      "Epoch 3/10\n",
      "38/38 [==============================] - 1s 31ms/step - loss: 0.0010 - mse: 0.0010\n",
      "Epoch 4/10\n",
      "38/38 [==============================] - 1s 30ms/step - loss: 8.6021e-04 - mse: 8.6021e-04\n",
      "Epoch 5/10\n",
      "38/38 [==============================] - 1s 31ms/step - loss: 8.7554e-04 - mse: 8.7554e-04\n",
      "Epoch 6/10\n",
      "38/38 [==============================] - 1s 31ms/step - loss: 7.3961e-04 - mse: 7.3961e-04\n",
      "Epoch 7/10\n",
      "38/38 [==============================] - 1s 30ms/step - loss: 9.6224e-04 - mse: 9.6224e-04\n",
      "Epoch 8/10\n",
      "38/38 [==============================] - 1s 35ms/step - loss: 7.6623e-04 - mse: 7.6623e-04\n",
      "Epoch 9/10\n",
      "38/38 [==============================] - 1s 30ms/step - loss: 6.5935e-04 - mse: 6.5935e-04\n",
      "Epoch 10/10\n",
      "38/38 [==============================] - 1s 32ms/step - loss: 6.2673e-04 - mse: 6.2673e-04\n",
      "training done.\n",
      "CPU times: user 25.8 s, sys: 2.15 s, total: 28 s\n",
      "Wall time: 13.3 s\n"
     ]
    }
   ],
   "source": [
    "%%time\n",
    "\n",
    "print (\"training starting ...\")\n",
    "\n",
    "# Fitting the RNN to the Training set\n",
    "history = model.fit(x_train, y_train, epochs = 10, batch_size = 32, callbacks=[tensorboard_callback])\n",
    "\n",
    "print (\"training done.\")"
   ]
  },
  {
   "cell_type": "markdown",
   "metadata": {},
   "source": [
    "## Step 8: Training History"
   ]
  },
  {
   "cell_type": "code",
   "execution_count": 14,
   "metadata": {},
   "outputs": [
    {
     "data": {
      "image/png": "[encoded data removed]",
      "text/plain": [
       "<Figure size 432x288 with 1 Axes>"
      ]
     },
     "metadata": {
      "needs_background": "light"
     },
     "output_type": "display_data"
    }
   ],
   "source": [
    "%matplotlib inline\n",
    "import matplotlib.pyplot as plt\n",
    "\n",
    "plt.plot(history.history['mse'], label='mse')\n",
    "plt.legend()\n",
    "plt.show()"
   ]
  },
  {
   "cell_type": "markdown",
   "metadata": {
    "colab_type": "text",
    "id": "AHA_qmDp7RkY"
   },
   "source": [
    "## Step 9: Predict\n",
    "We will now test the model with our Google_Stock_Price_Test.csv.  \n"
   ]
  },
  {
   "cell_type": "code",
   "execution_count": 15,
   "metadata": {
    "colab": {},
    "colab_type": "code",
    "id": "ufBKhS8yiv1g"
   },
   "outputs": [
    {
     "data": {
      "text/plain": [
       "array([[791.45306],\n",
       "       [786.0831 ],\n",
       "       [781.6675 ],\n",
       "       [788.66547],\n",
       "       [787.5199 ],\n",
       "       [794.7863 ],\n",
       "       [802.5491 ],\n",
       "       [803.80585],\n",
       "       [807.95135],\n",
       "       [806.45984],\n",
       "       [806.48016],\n",
       "       [808.3662 ],\n",
       "       [805.71136],\n",
       "       [803.9852 ],\n",
       "       [806.54865],\n",
       "       [808.0281 ],\n",
       "       [815.4299 ],\n",
       "       [823.2334 ],\n",
       "       [832.12177],\n",
       "       [832.4039 ]], dtype=float32)"
      ]
     },
     "execution_count": 15,
     "metadata": {},
     "output_type": "execute_result"
    }
   ],
   "source": [
    "# Getting the real stock price of 2017\n",
    "dataset_test = pd.read_csv(data_test_local,index_col=\"Date\",parse_dates=True, thousands = ',')\n",
    "real_stock_price = dataset_test.iloc[:, 1:2].values\n",
    "dataset_total = pd.concat((dataset_train['Open'], dataset_test['Open']), axis = 0)\n",
    "\n",
    "# Getting the last 80 values\n",
    "inputs = dataset_total[len(dataset_total) - len(dataset_test) - time_steps:].values\n",
    "\n",
    "inputs = inputs.reshape(-1,1)\n",
    "inputs = sc.fit_transform(inputs)\n",
    "x_test = []\n",
    "# \n",
    "for i in range(time_steps, time_steps+20):\n",
    "    x_test.append(inputs[i-time_steps:i, 0])\n",
    "x_test = np.array(x_test)\n",
    "x_test = np.reshape(x_test, (x_test.shape[0], x_test.shape[1], 1))\n",
    "predicted_stock_price = model.predict(x_test)\n",
    "predicted_stock_price = sc.inverse_transform(predicted_stock_price)\n",
    "\n",
    "predicted_stock_price"
   ]
  },
  {
   "cell_type": "markdown",
   "metadata": {
    "colab_type": "text",
    "id": "sD2B03-07dBe"
   },
   "source": [
    "## Step 10: Visualize result\n",
    "### 10.1: Compare real stock price with prediction"
   ]
  },
  {
   "cell_type": "code",
   "execution_count": 16,
   "metadata": {
    "colab": {
     "base_uri": "https://localhost:8080/",
     "height": 295
    },
    "colab_type": "code",
    "id": "N2X6aDWwiwfg",
    "outputId": "80b6fe97-be8a-4265-c558-47ad9932b888"
   },
   "outputs": [
    {
     "data": {
      "image/png": "[encoded data removed]",
      "text/plain": [
       "<Figure size 432x288 with 1 Axes>"
      ]
     },
     "metadata": {
      "needs_background": "light"
     },
     "output_type": "display_data"
    }
   ],
   "source": [
    "import matplotlib.pyplot as plt\n",
    "# Visualising the results\n",
    "plt.plot(real_stock_price, color = 'red', label = 'Real Google Stock Price')\n",
    "plt.plot(predicted_stock_price, color = 'blue', label = 'Predicted Google Stock Price')\n",
    "plt.title('Google Stock Price Prediction')\n",
    "plt.xlabel('Time')\n",
    "plt.ylabel('Google Stock Price')\n",
    "plt.legend()\n",
    "plt.show()"
   ]
  },
  {
   "cell_type": "markdown",
   "metadata": {},
   "source": [
    "## Step 11: Class Discussion\n",
    "Discuss your findings.\n",
    "\n",
    "Try these experiments\n",
    "- Step-5 : upgrade RNN units from 32 to 64.  \n",
    "Does that increase accuracy?\n",
    "- Does increasing epochs help with accuracy?"
   ]
  },
  {
   "cell_type": "markdown",
   "metadata": {
    "colab_type": "text",
    "id": "kqMOhWe13Rz6"
   },
   "source": [
    "### Source:\n",
    "https://blog.usejournal.com/stock-market-prediction-by-recurrent-neural-network-on-lstm-model-56de700bff68"
   ]
  },
  {
   "cell_type": "markdown",
   "metadata": {},
   "source": [
    "## Cleanup \n",
    "Before running the next exercise, run the following cell to terminate processes and free up resources"
   ]
  },
  {
   "cell_type": "code",
   "execution_count": 17,
   "metadata": {},
   "outputs": [
    {
     "name": "stdout",
     "output_type": "stream",
     "text": [
      "Killing Child pid  20271\n"
     ]
    }
   ],
   "source": [
    "## Kill any child processes (like tensorboard)\n",
    "\n",
    "import psutil\n",
    "import os, signal\n",
    "\n",
    "current_process = psutil.Process()\n",
    "children = current_process.children(recursive=True)\n",
    "for child in children:\n",
    "    print('Killing Child pid  {}'.format(child.pid))\n",
    "    os.kill(child.pid, signal.SIGKILL)\n",
    "    \n",
    "## This will kill actual kernel itself\n",
    "# os.kill(os.getpid(), signal.SIGKILL)"
   ]
  }
 ],
 "metadata": {
  "colab": {
   "collapsed_sections": [],
   "name": "RNN-1_stock_price.ipynb",
   "provenance": []
  },
  "kernelspec": {
   "display_name": "TensorFlow-GPU_2.3",
   "language": "python",
   "name": "tf-gpu_2.3"
  },
  "language_info": {
   "codemirror_mode": {
    "name": "ipython",
    "version": 3
   },
   "file_extension": ".py",
   "mimetype": "text/x-python",
   "name": "python",
   "nbconvert_exporter": "python",
   "pygments_lexer": "ipython3",
   "version": "3.8.2"
  }
 },
 "nbformat": 4,
 "nbformat_minor": 4
}
