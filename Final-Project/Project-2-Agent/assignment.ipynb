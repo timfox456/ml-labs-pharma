{
 "cells": [
  {
   "cell_type": "markdown",
   "id": "f5e6e796",
   "metadata": {},
   "source": [
    "---\n",
    "jupyter:\n",
    "  jupytext:\n",
    "    text_representation:\n",
    "      extension: .py\n",
    "      format_name: light\n",
    "      format_version: '1.5'\n",
    "      jupytext_version: 1.16.1\n",
    "  kernelspec:\n",
    "    display_name: Python 3 (ipykernel)\n",
    "    language: python\n",
    "    name: python3\n",
    "# ---"
   ]
  },
  {
   "cell_type": "markdown",
   "id": "f4d1d281",
   "metadata": {},
   "source": [
    "# Final Project 2: Drug Review Analysis Agent\n",
    "\n",
    "**Objective:** Your goal is to build an AI agent that can perform a complex, multi-step analysis of a drug review dataset. This project goes \"Beyond RAG\" by requiring the LLM to act as a reasoning engine that uses tools to gather information and synthesize a final answer.\n",
    "\n",
    "**Estimated Time:** 1 hour\n",
    "\n",
    "**Core Task:** You will create a set of Python functions that act as \"tools\" for an agent. You will then build a LangChain agent that can use these tools to answer a multi-hop question that a simple RAG system could not handle.\n",
    "\n",
    "---\n",
    "\n",
    "## 1. Setup\n",
    "\n",
    "First, ensure you have a `.env` file in the project root with your `OPENAI_API_KEY`. Then, install the required packages from `requirements.txt`.\n",
    "\n",
    "```bash\n",
    "# In your terminal\n",
    "pip install -r requirements.txt\n",
    "```\n",
    "\n",
    "Now, let's import the necessary libraries and load the data."
   ]
  },
  {
   "cell_type": "code",
   "execution_count": null,
   "id": "69de6a21",
   "metadata": {
    "lines_to_end_of_cell_marker": 0,
    "lines_to_next_cell": 1,
    "title": "import pandas as pd"
   },
   "outputs": [],
   "source": [
    "from dotenv import load_dotenv\n",
    "from langchain_openai import OpenAI\n",
    "from langchain.agents import AgentExecutor, create_react_agent, tool\n",
    "from langchain_core.prompts import PromptTemplate\n",
    "\n",
    "load_dotenv()\n",
    "\n",
    "# Load the dataset into a pandas DataFrame\n",
    "try:\n",
    "    df = pd.read_csv(\"./data/drug_reviews.csv\")\n",
    "    print(\"Dataset loaded successfully.\")\n",
    "    print(df.head())\n",
    "except FileNotFoundError:\n",
    "    print(\"Error: data/drug_reviews.csv not found.\")\n",
    "    df = None"
   ]
  },
  {
   "cell_type": "markdown",
   "id": "150990e1",
   "metadata": {},
   "source": [
    "## 2. The Challenge: A Multi-Step Analysis\n",
    "\n",
    "A user wants to know the following:\n",
    "> \"For the condition 'High Blood Pressure', what are the top 2 drugs with the highest average ratings? For each of those two drugs, provide a summary of the most common positive comments.\"\n",
    "\n",
    "A standard RAG system would fail here because it requires multiple steps and calculations:\n",
    "1.  Filter the dataset by condition.\n",
    "2.  Calculate the average rating for each drug in the filtered set.\n",
    "3.  Identify the top 2 drugs.\n",
    "4.  For each of the top drugs, retrieve all their positive reviews.\n",
    "5.  Summarize those positive reviews.\n",
    "\n",
    "Your task is to build an agent that can perform this reasoning.\n",
    "\n",
    "---\n",
    "\n",
    "## 3. Create Your Tools\n",
    "\n",
    "An agent needs tools to interact with the world (in this case, our DataFrame). You need to create a set of Python functions that the agent can call.\n",
    "\n",
    "**Your Task:**\n",
    "- Complete the five functions below.\n",
    "- Add the `@tool` decorator to each one so that LangChain recognizes it as a tool.\n",
    "- The first tool is provided for you as an example."
   ]
  },
  {
   "cell_type": "code",
   "execution_count": null,
   "id": "3727c871",
   "metadata": {},
   "outputs": [],
   "source": [
    "# ---\n",
    "# YOUR CODE HERE"
   ]
  },
  {
   "cell_type": "code",
   "execution_count": null,
   "id": "4cf23ee5",
   "metadata": {
    "lines_to_next_cell": 1
   },
   "outputs": [],
   "source": [
    "@tool\n",
    "def get_drugs_for_condition(condition: str) -> str:\n",
    "    \"\"\"Returns a list of drugs used for a specific condition.\"\"\"\n",
    "    if df is not None:\n",
    "        drugs = df[df['condition'].str.lower() == condition.lower()]['drugName'].unique()\n",
    "        return f\"The drugs for {condition} are: {', '.join(drugs)}\"\n",
    "    return \"Dataset not loaded.\""
   ]
  },
  {
   "cell_type": "code",
   "execution_count": null,
   "id": "db35c653",
   "metadata": {
    "lines_to_next_cell": 1
   },
   "outputs": [],
   "source": [
    "# @tool\n",
    "def get_average_rating(drug_name: str) -> str:\n",
    "    \"\"\"Returns the average rating for a specific drug.\"\"\"\n",
    "    # Hint: Filter the DataFrame for the drug_name and calculate the mean of the 'rating' column.\n",
    "    # Return a formatted string like \"The average rating for [drug_name] is [avg_rating].\"\n",
    "    pass"
   ]
  },
  {
   "cell_type": "code",
   "execution_count": null,
   "id": "eeb0eabd",
   "metadata": {
    "lines_to_next_cell": 1
   },
   "outputs": [],
   "source": [
    "# @tool\n",
    "def get_reviews(drug_name: str, sentiment: str = 'positive') -> str:\n",
    "    \"\"\"\n",
    "    Returns patient reviews for a specific drug.\n",
    "    Sentiment can be 'positive' (rating > 7), 'negative' (rating < 4), or 'all'.\n",
    "    \"\"\"\n",
    "    # Hint: Filter the DataFrame by drug_name.\n",
    "    # Then, based on the 'sentiment' parameter, filter by the 'rating' column.\n",
    "    # Join the 'review' texts into a single string and return it.\n",
    "    pass"
   ]
  },
  {
   "cell_type": "code",
   "execution_count": null,
   "id": "2f424fed",
   "metadata": {
    "lines_to_next_cell": 1
   },
   "outputs": [],
   "source": [
    "# @tool\n",
    "def summarize_text(text: str) -> str:\n",
    "    \"\"\"Summarizes a long piece of text into a few key points.\"\"\"\n",
    "    # Hint: This tool will need to call an LLM.\n",
    "    # Create an instance of the OpenAI LLM and pass it a prompt that includes the text to be summarized.\n",
    "    pass"
   ]
  },
  {
   "cell_type": "code",
   "execution_count": null,
   "id": "504790c8",
   "metadata": {},
   "outputs": [],
   "source": [
    "# Create a list of all your tools\n",
    "tools = [] # Add your completed tool functions to this list"
   ]
  },
  {
   "cell_type": "markdown",
   "id": "59d0e135",
   "metadata": {},
   "source": [
    "---\n",
    "END YOUR CODE\n",
    "-"
   ]
  },
  {
   "cell_type": "markdown",
   "id": "8f640017",
   "metadata": {},
   "source": [
    "## 4. Build the Agent\n",
    "\n",
    "Now that you have your tools, you need to create the agent that can use them.\n",
    "\n",
    "**Your Task:**\n",
    "- Create a `PromptTemplate` using the provided `prompt_template_string`.\n",
    "- Create a ReAct agent using `create_react_agent`.\n",
    "- Create an `AgentExecutor` to run the agent."
   ]
  },
  {
   "cell_type": "code",
   "execution_count": null,
   "id": "08bb54f0",
   "metadata": {},
   "outputs": [],
   "source": [
    "# Starter Code\n",
    "prompt_template_string = \"\"\"\n",
    "Answer the following questions as best you can. You have access to the following tools:\n",
    "\n",
    "{tools}\n",
    "\n",
    "Use the following format:\n",
    "\n",
    "Question: the input question you must answer\n",
    "Thought: you should always think about what to do\n",
    "Action: the action to take, should be one of [{tool_names}]\n",
    "Action Input: the input to the action\n",
    "Observation: the result of the action\n",
    "... (this Thought/Action/Action Input/Observation can repeat N times)\n",
    "Thought: I now know the final answer\n",
    "Final Answer: the final answer to the original input question\n",
    "\n",
    "Begin!\n",
    "\n",
    "Question: {input}\n",
    "Thought:{agent_scratchpad}\n",
    "\"\"\"\n",
    "\n",
    "# ---\n",
    "# YOUR CODE HERE"
   ]
  },
  {
   "cell_type": "code",
   "execution_count": null,
   "id": "0435c754",
   "metadata": {},
   "outputs": [],
   "source": [
    "# 1. Create the Prompt Template\n",
    "prompt = None # Replace None"
   ]
  },
  {
   "cell_type": "code",
   "execution_count": null,
   "id": "6999d412",
   "metadata": {},
   "outputs": [],
   "source": [
    "# 2. Create the Agent\n",
    "agent = None # Replace None"
   ]
  },
  {
   "cell_type": "code",
   "execution_count": null,
   "id": "e81a8608",
   "metadata": {},
   "outputs": [],
   "source": [
    "# 3. Create the Agent Executor\n",
    "agent_executor = None # Replace None"
   ]
  },
  {
   "cell_type": "markdown",
   "id": "879fffd7",
   "metadata": {},
   "source": [
    "---\n",
    "END YOUR CODE\n",
    "-"
   ]
  },
  {
   "cell_type": "markdown",
   "id": "98588d11",
   "metadata": {},
   "source": [
    "## 5. Run and Test Your Agent\n",
    "\n",
    "Now, let's give the agent the complex question and see if it can reason its way to the answer.\n",
    "\n",
    "**Your Task:**\n",
    "- Define the `complex_question` string.\n",
    "- Invoke the `agent_executor` with the question.\n",
    "- Print the final output."
   ]
  },
  {
   "cell_type": "code",
   "execution_count": null,
   "id": "7d8d5ff9",
   "metadata": {},
   "outputs": [],
   "source": [
    "# ---\n",
    "# YOUR CODE HERE"
   ]
  },
  {
   "cell_type": "code",
   "execution_count": null,
   "id": "5322a2e1",
   "metadata": {},
   "outputs": [],
   "source": [
    "complex_question = \"For the condition 'High Blood Pressure', what are the top 2 drugs with the highest average ratings? For each of those two drugs, provide a summary of the most common positive comments.\""
   ]
  },
  {
   "cell_type": "code",
   "execution_count": null,
   "id": "7d5a6686",
   "metadata": {},
   "outputs": [],
   "source": [
    "response = None # Invoke the agent"
   ]
  },
  {
   "cell_type": "code",
   "execution_count": null,
   "id": "5fb9fa84",
   "metadata": {},
   "outputs": [],
   "source": [
    "print(\"\\n--- Agent's Final Response ---\")\n",
    "# print(response['output']) # The final answer is in the 'output' key of the response dictionary"
   ]
  },
  {
   "cell_type": "markdown",
   "id": "870461d0",
   "metadata": {},
   "source": [
    "---\n",
    "END YOUR CODE\n",
    "-"
   ]
  },
  {
   "cell_type": "markdown",
   "id": "57ba3e9c",
   "metadata": {},
   "source": [
    "**Expected Output:**\n",
    "If your agent works correctly, you should see a detailed thought process (because `verbose=True` is the default for `AgentExecutor`). The final answer should identify Valsartan and Guanfacine as the top drugs and provide a summary of their positive reviews.\n",
    "\n",
    "---\n",
    "\n",
    "## Conclusion\n",
    "\n",
    "You have successfully built an agentic system that goes beyond simple RAG. You learned how to:\n",
    "1.  Decompose a complex problem into smaller, solvable steps.\n",
    "2.  Encapsulate those steps into tools (functions) that an LLM can use.\n",
    "3.  Build a reasoning agent that can plan and execute a series of actions to find an answer.\n",
    "\n",
    "This agent-and-tool-use pattern is fundamental to solving complex, real-world problems with AI."
   ]
  }
 ],
 "metadata": {
  "jupytext": {
   "cell_metadata_filter": "title,-all",
   "main_language": "python",
   "notebook_metadata_filter": "-all"
  }
 },
 "nbformat": 4,
 "nbformat_minor": 5
}
