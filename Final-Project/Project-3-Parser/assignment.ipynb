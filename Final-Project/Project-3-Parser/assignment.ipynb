{
 "cells": [
  {
   "cell_type": "markdown",
   "id": "e87ad28e",
   "metadata": {},
   "source": [
    "---\n",
    "jupyter:\n",
    "  jupytext:\n",
    "    text_representation:\n",
    "      extension: .py\n",
    "      format_name: light\n",
    "      format_version: '1.5'\n",
    "      jupytext_version: 1.16.1\n",
    "  kernelspec:\n",
    "    display_name: Python 3 (ipykernel)\n",
    "    language: python\n",
    "    name: python3\n",
    "# ---"
   ]
  },
  {
   "cell_type": "markdown",
   "id": "9710ee20",
   "metadata": {},
   "source": [
    "# Final Project 3: Clinical Trial Report Parser\n",
    "\n",
    "**Objective:** Your goal is to build a robust system that can extract structured information from unstructured text using an LLM with **function calling**. This is a highly valuable skill for turning messy, real-world documents into clean, database-ready data.\n",
    "\n",
    "**Estimated Time:** 1 hour\n",
    "\n",
    "**Core Task:** You will define a Pydantic schema for the data you want to extract from clinical trial press releases. Then, you will use LangChain and OpenAI's function calling ability to parse the text and populate your schema.\n",
    "\n",
    "---\n",
    "\n",
    "## 1. Setup\n",
    "\n",
    "First, ensure you have a `.env` file in the project root with your `OPENAI_API_KEY`. Then, install the required packages from `requirements.txt`.\n",
    "\n",
    "```bash\n",
    "# In your terminal\n",
    "pip install -r requirements.txt\n",
    "```\n",
    "\n",
    "Now, let's import the necessary libraries."
   ]
  },
  {
   "cell_type": "code",
   "execution_count": null,
   "id": "4e6dabfe",
   "metadata": {
    "incorrectly_encoded_metadata": "="
   },
   "outputs": [],
   "source": [
    "import json\n",
    "from typing import Literal\n",
    "from dotenv import load_dotenv\n",
    "from pydantic import BaseModel, Field\n",
    "from langchain_openai import ChatOpenAI\n",
    "from langchain.prompts import ChatPromptTemplate\n",
    "from langchain.chains.openai_functions import create_structured_output_chain\n",
    "\n",
    "load_dotenv()\n",
    "# -=\n",
    "\n",
    "# ## 2. The Challenge: Unstructured Press Releases\n",
    "#\n",
    "# Our data consists of two `.txt` files containing fictional press releases about clinical trials. This text is a mix of formal announcements, scientific details, and forward-looking statements. Manually extracting key information is slow and error-prone. Our job is to automate it.\n",
    "#\n",
    "# ### Load the Data (Starter Code)"
   ]
  },
  {
   "cell_type": "code",
   "execution_count": null,
   "id": "e5df47bb",
   "metadata": {
    "incorrectly_encoded_metadata": "="
   },
   "outputs": [],
   "source": [
    "# Starter Code\n",
    "try:\n",
    "    with open(\"./data/trial_press_release_1.txt\", \"r\") as f:\n",
    "        press_release_1 = f.read()\n",
    "    with open(\"./data/trial_press_release_2.txt\", \"r\") as f:\n",
    "        press_release_2 = f.read()\n",
    "    print(\"--- Press Release 1 ---\")\n",
    "    print(press_release_1)\n",
    "    print(\"\\n--- Press Release 2 ---\")\n",
    "    print(press_release_2)\n",
    "except FileNotFoundError:\n",
    "    print(\"Error: Data files not found.\")\n",
    "    press_release_1, press_release_2 = \"\", \"\"\n",
    "# -=\n",
    "\n",
    "# ## 3. Define Your Data Schema\n",
    "#\n",
    "# Before we can extract anything, we must define the *structure* of the data we want. Pydantic is the perfect tool for this, as it allows us to define a data model with types and descriptions.\n",
    "#\n",
    "# **Your Task:**\n",
    "# - Complete the Pydantic `ClinicalTrialResult` model below.\n",
    "# - Add fields for `trial_phase`, `patient_count`, and `primary_endpoint`.\n",
    "# - Use the `Field` function to provide a clear description for each new field. This description is crucial, as it tells the LLM what kind of information to look for.\n",
    "# - For the `outcome` field, use the `Literal` type to constrain the LLM's output to one of three specific strings: `\"Successful\"`, `\"Failed\"`, or `\"Ongoing\"`."
   ]
  },
  {
   "cell_type": "code",
   "execution_count": null,
   "id": "e2c87750",
   "metadata": {
    "incorrectly_encoded_metadata": "=",
    "lines_to_next_cell": 1
   },
   "outputs": [],
   "source": [
    "# --- YOUR CODE HERE ---\n",
    "\n",
    "class ClinicalTrialResult(BaseModel):\n",
    "    \"\"\"A structured representation of a clinical trial result.\"\"\"\n",
    "    drug_name: str = Field(..., description=\"The name of the drug being tested.\")\n",
    "    trial_phase: str = Field(..., description=\"The phase of the clinical trial (e.g., 'Phase 3', 'Phase 2b').\")\n",
    "    # Add patient_count field here\n",
    "    # Add primary_endpoint field here\n",
    "    outcome: Literal[\"Successful\", \"Failed\", \"Ongoing\"] = Field(..., description=\"The final outcome of the trial.\")\n",
    "\n",
    "# --- END YOUR CODE ---\n",
    "# -=\n",
    "\n",
    "# ## 4. Build the Extraction Chain\n",
    "#\n",
    "# We will use a specialized LangChain function, `create_structured_output_chain`, which is designed for exactly this task. It takes our Pydantic model and an LLM and creates a chain that will reliably output a JSON object matching our schema.\n",
    "#\n",
    "# **Your Task:**\n",
    "# - Create an instance of the `ChatOpenAI` model. Use a powerful model like `\"gpt-4-turbo\"` for best results.\n",
    "# - Define a `ChatPromptTemplate`. It should instruct the AI to act as an expert data extractor and tell it to extract information from the user's input.\n",
    "# - Use `create_structured_output_chain` to build the final chain."
   ]
  },
  {
   "cell_type": "code",
   "execution_count": null,
   "id": "ef34e411",
   "metadata": {
    "incorrectly_encoded_metadata": "="
   },
   "outputs": [],
   "source": [
    "# --- YOUR CODE HERE ---\n",
    "\n",
    "# 1. Initialize the LLM\n",
    "llm = None # Replace None\n",
    "\n",
    "# 2. Create the prompt\n",
    "prompt = ChatPromptTemplate.from_messages([\n",
    "    (\"system\", \"You are an expert at extracting key information from medical and scientific documents.\"),\n",
    "    (\"human\", \"Please extract the clinical trial data from the following text: {text}\")\n",
    "])\n",
    "\n",
    "# 3. Create the structured output chain\n",
    "# Pass your Pydantic model to the 'output_schema' argument\n",
    "extraction_chain = None # Replace None\n",
    "\n",
    "# --- END YOUR CODE ---\n",
    "# -=\n",
    "\n",
    "# ## 5. Run and Test Your Parser\n",
    "#\n",
    "# Now it's time to use your chain to parse the two press releases.\n",
    "#\n",
    "# **Your Task:**\n",
    "# - Invoke the `extraction_chain` for both `press_release_1` and `press_release_2`.\n",
    "# - The input to the chain should be a dictionary with the key `\"text\"`.\n",
    "# - The output will be a dictionary. The structured data is in the `\"function\"` key.\n",
    "# - Print the extracted Pydantic objects."
   ]
  },
  {
   "cell_type": "code",
   "execution_count": null,
   "id": "bfa20299",
   "metadata": {
    "incorrectly_encoded_metadata": "="
   },
   "outputs": [],
   "source": [
    "# --- YOUR CODE HERE ---\n",
    "\n",
    "if 'extraction_chain' in locals() and extraction_chain:\n",
    "    # Parse the first press release\n",
    "    result_1 = None # Invoke the chain\n",
    "    extracted_data_1 = None # Get the data from the 'function' key\n",
    "\n",
    "    print(\"--- Extracted Data 1 ---\")\n",
    "    # print(extracted_data_1)\n",
    "\n",
    "    # Parse the second press release\n",
    "    result_2 = None # Invoke the chain\n",
    "    extracted_data_2 = None # Get the data from the 'function' key\n",
    "\n",
    "    print(\"\\n--- Extracted Data 2 ---\")\n",
    "    # print(extracted_data_2)\n",
    "else:\n",
    "    print(\"Extraction chain not created. Please complete the previous step.\")\n",
    "\n",
    "# --- END YOUR CODE ---\n",
    "# -=\n",
    "\n",
    "# **Expected Output:**\n",
    "# You should see two clean `ClinicalTrialResult` objects, with all the fields correctly populated from the unstructured text. This demonstrates how you can turn messy documents into clean, structured data that could be saved to a database or used in an analysis pipeline.\n",
    "#\n",
    "# ---\n",
    "#\n",
    "# ## Conclusion\n",
    "#\n",
    "# In this project, you have built a powerful and modern data extraction pipeline. You learned how to:\n",
    "# 1.  Define a formal data schema using Pydantic to specify your desired output.\n",
    "# 2.  Use LangChain's `create_structured_output_chain` to leverage LLM function calling.\n",
    "# 3.  Reliably parse unstructured text into validated, structured objects.\n",
    "#\n",
    "# This technique is one of the most practical and high-impact applications of LLMs in a business or research context."
   ]
  }
 ],
 "metadata": {
  "jupytext": {
   "cell_metadata_filter": "incorrectly_encoded_metadata,-all",
   "main_language": "python",
   "notebook_metadata_filter": "-all"
  }
 },
 "nbformat": 4,
 "nbformat_minor": 5
}
