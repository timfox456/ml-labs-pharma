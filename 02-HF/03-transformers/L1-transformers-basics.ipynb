{
 "cells": [
  {
   "cell_type": "markdown",
   "id": "f3037d8a",
   "metadata": {},
   "source": [
    "# Transformers\n",
    "\n",
    "In this lab we will practice the basic use of Transformers.\n",
    "\n",
    "### Lab Goals:\n",
    "\n",
    "* Use Transformers for:\n",
    "  * Classification\n",
    "  * Text Generation\n",
    "  * Entity name recognition\n",
    "  * Question answering\n",
    "  * Summarization\n",
    "  * Translation\n",
    "\n",
    "### How to do this lab\n",
    "\n",
    "* This lab is designed to be run cell by cell in a Jupyter Notebook.\n",
    "* You can convert this `.py` file to a notebook by running `jupytext --to-notebook <filename>.py` in your terminal.\n",
    "\n",
    "### Quizzes\n",
    "* When you encounter a quiz, please provide your answer in private chat with the instructor.\n",
    "* For example:\n",
    "  * Quiz 1: What was your score?\n",
    "  * You: `1: 99%`"
   ]
  },
  {
   "cell_type": "markdown",
   "id": "d163a57c",
   "metadata": {},
   "source": [
    "## Step 1: Use a Pipeline for classification"
   ]
  },
  {
   "cell_type": "code",
   "execution_count": null,
   "id": "ae3b41d9",
   "metadata": {},
   "outputs": [],
   "source": [
    "%pip install transformers\n",
    "from transformers import pipeline\n",
    "\n",
    "classifier = pipeline(\"sentiment-analysis\")\n",
    "classifier(\"I've been waiting for a HuggingFace course my whole life.\")"
   ]
  },
  {
   "cell_type": "markdown",
   "id": "1eea9b25",
   "metadata": {},
   "source": [
    "* Your output should be similar to this:\n",
    "\n",
    "```text\n",
    "[{'label': 'POSITIVE', 'score': 0.9598047137260437}]\n",
    "```\n",
    "\n",
    "### Quiz 1: What was your score?"
   ]
  },
  {
   "cell_type": "markdown",
   "id": "c7e40e0e",
   "metadata": {},
   "source": [
    "## Step 2: Use a Pipeline for zero-shot text classification"
   ]
  },
  {
   "cell_type": "code",
   "execution_count": null,
   "id": "389648c0",
   "metadata": {},
   "outputs": [],
   "source": [
    "from transformers import pipeline\n",
    "\n",
    "classifier = pipeline(\"zero-shot-classification\")\n",
    "classifier(\n",
    "    \"This is a course about the Transformers library\",\n",
    "    candidate_labels=[\"education\", \"politics\", \"business\"],\n",
    ")"
   ]
  },
  {
   "cell_type": "markdown",
   "id": "486145f1",
   "metadata": {},
   "source": [
    "* Your output should be similar to this:\n",
    "\n",
    "```text\n",
    "{'sequence': 'This is a course about the Transformers library',\n",
    " 'labels': ['education', 'business', 'politics'],\n",
    " 'scores': [0.8445963859558105, 0.111976258456707, 0.043427448719739914]}\n",
    "```\n",
    "\n",
    "### Quiz 2: What classification did you get?"
   ]
  },
  {
   "cell_type": "markdown",
   "id": "ce5bf8f0",
   "metadata": {},
   "source": [
    "## Step 3: Use a Pipeline for text generation"
   ]
  },
  {
   "cell_type": "code",
   "execution_count": null,
   "id": "f5fa0f38",
   "metadata": {},
   "outputs": [],
   "source": [
    "from transformers import pipeline\n",
    "\n",
    "generator = pipeline(\"text-generation\")\n",
    "generator(\"In this course, we will teach you how to\")"
   ]
  },
  {
   "cell_type": "markdown",
   "id": "6838e5fa",
   "metadata": {},
   "source": [
    "* Your output should look like this\n",
    "```text\n",
    "[{'generated_text': 'In this course, we will teach you how to understand and use '\n",
    "                    'data flow and data interchange when handling user data. We '\n",
    "                    'will be working with one or more of the most commonly used '\n",
    "                    'data flows — data flows of various types, as seen by the '\n",
    "                    'HTTP'}]\n",
    "\n",
    "```\n",
    "\n",
    "### Quiz 3: What was the generated text?\n",
    "\n",
    "### Bonus: Generate more text sequences\n",
    "\n",
    "* Use the `num_return_sequences` and `max_length` arguments to generate two sentences of 30 words each."
   ]
  },
  {
   "cell_type": "markdown",
   "id": "100084b5",
   "metadata": {},
   "source": [
    "## Step 4: Use another model for text generation"
   ]
  },
  {
   "cell_type": "code",
   "execution_count": null,
   "id": "77e288cf",
   "metadata": {},
   "outputs": [],
   "source": [
    "from transformers import pipeline\n",
    "\n",
    "generator = pipeline(\"text-generation\", model=\"distilgpt2\")\n",
    "generator(\n",
    "    \"In this course, we will teach you how to\",\n",
    "    max_length=30,\n",
    "    num_return_sequences=2,\n",
    ")"
   ]
  },
  {
   "cell_type": "markdown",
   "id": "3009d27c",
   "metadata": {},
   "source": [
    "### Quiz 4: What was the generated text?"
   ]
  },
  {
   "cell_type": "markdown",
   "id": "b5245363",
   "metadata": {},
   "source": [
    "## Step 5: Fill in the missing words"
   ]
  },
  {
   "cell_type": "code",
   "execution_count": null,
   "id": "7995b832",
   "metadata": {},
   "outputs": [],
   "source": [
    "from transformers import pipeline\n",
    "\n",
    "unmasker = pipeline(\"fill-mask\")\n",
    "unmasker(\"This course will teach you all about <mask> models.\", top_k=2)"
   ]
  },
  {
   "cell_type": "markdown",
   "id": "57a07f33",
   "metadata": {},
   "source": [
    "### Quiz 5: What were the top two predictions?"
   ]
  },
  {
   "cell_type": "markdown",
   "id": "87657c11",
   "metadata": {},
   "source": [
    "## Step 6: Entity name recognition"
   ]
  },
  {
   "cell_type": "code",
   "execution_count": null,
   "id": "e0730da9",
   "metadata": {},
   "outputs": [],
   "source": [
    "from transformers import pipeline\n",
    "\n",
    "ner = pipeline(\"ner\", grouped_entities=True)\n",
    "ner(\"My name is Sylvain and I work at Hugging Face in Brooklyn.\")"
   ]
  },
  {
   "cell_type": "markdown",
   "id": "73fdc4d2",
   "metadata": {},
   "source": [
    "### Quiz 6:\n",
    "* What were the recognized entities?\n",
    "* Put in your name and place. Did it recognize you?"
   ]
  },
  {
   "cell_type": "markdown",
   "id": "724d5d7c",
   "metadata": {},
   "source": [
    "## Step 7: Question answering"
   ]
  },
  {
   "cell_type": "code",
   "execution_count": null,
   "id": "9422bd9a",
   "metadata": {},
   "outputs": [],
   "source": [
    "from transformers import pipeline\n",
    "\n",
    "question_answerer = pipeline(\"question-answering\")\n",
    "question_answerer(\n",
    "    question=\"Where do I work?\",\n",
    "    context=\"My name is Sylvain and I work at Hugging Face in Brooklyn\",\n",
    ")"
   ]
  },
  {
   "cell_type": "markdown",
   "id": "d2d390cb",
   "metadata": {},
   "source": [
    "* The answer should look as follows\n",
    "\n",
    "```text\n",
    "{'score': 0.6385916471481323, 'start': 33, 'end': 45, 'answer': 'Hugging Face'}\n",
    "```\n",
    "\n",
    "### Quiz 7: Formulate your question, let HF answer it. What was your question and HG's answer?"
   ]
  },
  {
   "cell_type": "markdown",
   "id": "1395b6a0",
   "metadata": {},
   "source": [
    "## Step 8: Summarization"
   ]
  },
  {
   "cell_type": "code",
   "execution_count": null,
   "id": "15371783",
   "metadata": {},
   "outputs": [],
   "source": [
    "from transformers import pipeline\n",
    "\n",
    "summarizer = pipeline(\"summarization\")\n",
    "summarizer(\n",
    "    \"\"\"\n",
    "    America has changed dramatically during recent years. Not only has the number of \n",
    "    graduates in traditional engineering disciplines such as mechanical, civil, \n",
    "    electrical, chemical, and aeronautical engineering declined, but in most of \n",
    "    the premier American universities engineering curricula now concentrate on \n",
    "    and encourage largely the study of engineering science. As a result, there \n",
    "    are declining offerings in engineering subjects dealing with infrastructure, \n",
    "    the environment, and related issues, and greater concentration on high \n",
    "    technology subjects, largely supporting increasingly complex scientific \n",
    "    developments. While the latter is important, it should not be at the expense \n",
    "    of more traditional engineering.\n",
    "\n",
    "    Rapidly developing economies such as China and India, as well as other \n",
    "    industrial countries in Europe and Asia, continue to encourage and advance \n",
    "    the teaching of engineering. Both China and India, respectively, graduate \n",
    "    six and eight times as many traditional engineers as does the United States. \n",
    "    Other industrial countries at minimum maintain their output, while America \n",
    "    suffers an increasingly serious decline in the number of engineering graduates \n",
    "    and a lack of well-educated engineers.\n",
    "\"\"\"\n",
    ")"
   ]
  },
  {
   "cell_type": "markdown",
   "id": "dfd8fd68",
   "metadata": {},
   "source": [
    "### Quiz 8:\n",
    "* Try a `max_length` or a `min_length`\n",
    "* What was the format of your function call?"
   ]
  },
  {
   "cell_type": "markdown",
   "id": "bc44baa0",
   "metadata": {},
   "source": [
    "## Step 9: Translation"
   ]
  },
  {
   "cell_type": "code",
   "execution_count": null,
   "id": "13c67233",
   "metadata": {},
   "outputs": [],
   "source": [
    "from transformers import pipeline\n",
    "\n",
    "translator = pipeline(\"translation\", model=\"Helsinki-NLP/opus-mt-fr-en\")\n",
    "translator(\"Ce cours est produit par Hugging Face.\")"
   ]
  },
  {
   "cell_type": "markdown",
   "id": "20560a0d",
   "metadata": {},
   "source": [
    "### Quiz 9: What was the translation?\n",
    "* TODO Bonus: What other languages are enabled? Try your favorite one or one you know.\n",
    "* Hint\n",
    "```python\n",
    "from transformers import pipeline\n",
    "\n",
    "translator = pipeline(\"translation\", model=\"Helsinki-NLP/opus-mt-tc-big-en-fr\")\n",
    "translator(\"This course was produced by Hugging Face.\")\n",
    "```\n",
    "* Note: this may require tuning"
   ]
  }
 ],
 "metadata": {
  "kernelspec": {
   "display_name": "Python 3 (ipykernel)",
   "language": "python",
   "name": "python3"
  }
 },
 "nbformat": 4,
 "nbformat_minor": 5
}
